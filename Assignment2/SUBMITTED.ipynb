{
 "cells": [
  {
   "cell_type": "markdown",
   "metadata": {
    "deletable": false,
    "editable": false,
    "nbgrader": {
     "checksum": "51cce712a92f166673eb221d272cd9a2",
     "grade": false,
     "grade_id": "cell-061fcd340525d57c",
     "locked": true,
     "schema_version": 1,
     "solution": false
    }
   },
   "source": [
    "# Informatics 1 Cognitive Science (2017–2018)\n",
    "## Assignment 2: Clustering and Categorization\n",
    "\n",
    "------------------------\n",
    "\n",
    "## Answering questions\n",
    "The assignment notebooks include a combination of instructions, code that has been written for you to use, run, or examine, and questions you need to answer.\n",
    "\n",
    "### Code\n",
    "In every place where you need to write code you will see:\n",
    "\n",
    "    YOUR CODE HERE\n",
    "\n",
    "    raise NotImplementedError()\n",
    "\n",
    "or\n",
    "\n",
    "    YOUR CODE HERE\n",
    "\n",
    "Delete the raise NotImplementedError() (if applicable) and write your solution code inside the marked cell.\n",
    "\n",
    "### Text\n",
    "For questions that require you to write text the cell will say YOUR ANSWER HERE. Again delete that line if you want to answer the question and write your response in the marked cell.\n",
    "\n",
    "Most of the cells that already contained text or calculations will be read-only. You can open new cells for additional calculation or notes, however these cells will not be part of your submission and will not be considered for marking! Thus, make sure that all your solutions are contained in the marked cells.\n",
    "\n",
    "------------------------\n",
    "\n",
    "\n",
    "# Introduction\n",
    "\n",
    "In this task you will induce semantic categories for a set of words by clustering them into sets of semantically related words. You will cluster the words on the basis of their\n",
    "representations in a space of semantic features, applying **agglomerative hierarchical clustering**. We\n",
    "will use the [**linkage**](https://docs.scipy.org/doc/scipy-0.18.1/reference/generated/scipy.cluster.hierarchy.linkage.html#scipy.cluster.hierarchy.linkage) function from scikit-learn to do the clustering:\n",
    "\n",
    "$$\\mathbf{Z} = \\mathbf{linkage}(\\mathbf{X},\\mathbf{method},\\mathbf{metric})$$\n",
    "\n",
    "The function performs agglomerative hierarchical clustering of the rows of matrix **X**\n",
    "and returns tree **Z** encoding a dendrogram of the resulting hierarchical clusters. \n",
    "The argument **method** describes the clustering criterion, i.e., how to measure the distance\n",
    "between clusters. \n",
    "\n",
    "In the lectures, we discussed three different clustering criteria:\n",
    "\n",
    "- **single-linkage**, (called 'single' in scikit-learn)\n",
    "- **complete-linkage**, ('complete')\n",
    "- **group average**, ('average')\n",
    "The argument **metric** specifies the function that will be used to compute distances between the rows of **X**. We will use cosine distance (via the argument 'cosine')[(*1)](#References).\n",
    "\n",
    "## A simple example\n",
    "Let's first go through an example to show what you'll need to know for task 1. "
   ]
  },
  {
   "cell_type": "code",
   "execution_count": 6,
   "metadata": {},
   "outputs": [],
   "source": [
    "# import numpy, the python scientific package\n",
    "import numpy as np\n",
    "\n",
    "# import maplotlib to plot the visualizations\n",
    "from matplotlib import pyplot as plt\n",
    "#this is to output the plots in the notebook\n",
    "%matplotlib inline"
   ]
  },
  {
   "cell_type": "code",
   "execution_count": 7,
   "metadata": {},
   "outputs": [
    {
     "name": "stdout",
     "output_type": "stream",
     "text": [
      "[[ 1  2  3]\n",
      " [ 1  2  5]\n",
      " [ 7  1 -5]\n",
      " [ 3  4  6]]\n"
     ]
    }
   ],
   "source": [
    "'''\n",
    "Assume we are given matrix contains features for four letters. \n",
    "Each letter's features are a row in the matrix A. \n",
    "\n",
    "In this case, the features are made up and don't have any particular\n",
    "interpretation.\n",
    "'''\n",
    "\n",
    "A = np.matrix([[1,2,3],[1,2,5],[7,1,-5],[3,4,6]])\n",
    "print(A)"
   ]
  },
  {
   "cell_type": "code",
   "execution_count": 8,
   "metadata": {},
   "outputs": [
    {
     "name": "stdout",
     "output_type": "stream",
     "text": [
      "['a', 'o', 'k', 'e']\n"
     ]
    }
   ],
   "source": [
    "# The letters are defined in:\n",
    "letters = ['a','o','k','e']\n",
    "print(letters)"
   ]
  },
  {
   "cell_type": "markdown",
   "metadata": {
    "deletable": false,
    "editable": false,
    "nbgrader": {
     "checksum": "c7d2e14f0e6d1c8d3f3391997c060fac",
     "grade": false,
     "grade_id": "cell-fe8057f5288c71cd",
     "locked": true,
     "schema_version": 1,
     "solution": false
    }
   },
   "source": [
    "We'll now do hierarchical clustering on the data using the single-linkage criterion.\n"
   ]
  },
  {
   "cell_type": "code",
   "execution_count": 9,
   "metadata": {},
   "outputs": [],
   "source": [
    "# First, import the linkage function from scipy library\n",
    "from scipy.cluster.hierarchy import linkage\n",
    "\n",
    "'''\n",
    "Now, we use the linkage function on the feature matrix A,\n",
    "with our chosen criterion and distance function: \n",
    "'''\n",
    "\n",
    "TreeA = linkage(A,'single','cosine')"
   ]
  },
  {
   "cell_type": "markdown",
   "metadata": {
    "deletable": false,
    "editable": false,
    "nbgrader": {
     "checksum": "0bc5d8b4e3d6c39471d8a0297d5c3f00",
     "grade": false,
     "grade_id": "cell-afe6d9b9731b808d",
     "locked": true,
     "schema_version": 1,
     "solution": false
    }
   },
   "source": [
    "Now we have two options to further inspect the clustering. \n",
    "\n",
    "### Visualising dendograms\n",
    "\n",
    "The first option is to view the corresponding dendrogram. Try it out and make sure you understand how to read it."
   ]
  },
  {
   "cell_type": "code",
   "execution_count": 212,
   "metadata": {},
   "outputs": [
    {
     "data": {
      "image/png": "[encoded data removed]",
      "text/plain": [
       "<matplotlib.figure.Figure at 0x616c48240>"
      ]
     },
     "metadata": {},
     "output_type": "display_data"
    }
   ],
   "source": [
    "# import the dendrogram function from scipy\n",
    "from scipy.cluster.hierarchy import dendrogram\n",
    "\n",
    "dendrogram(TreeA, labels=letters, orientation= 'right');"
   ]
  },
  {
   "cell_type": "markdown",
   "metadata": {
    "deletable": false,
    "editable": false,
    "nbgrader": {
     "checksum": "6da88e98af4443e769c44254b7a7d275",
     "grade": false,
     "grade_id": "cell-aa26dd6edeb5a2e3",
     "locked": true,
     "schema_version": 1,
     "solution": false
    }
   },
   "source": [
    "### Working with clusters\n",
    "The second option is to obtain the clusters at a certain height in the tree. This is done with the function **fcluster**, where we have to specify the maximum number **t** of the resulting clusters.\n",
    "\n",
    "The function returns a column vector **clustering** of size 4, where row i contains the cluster assignment of row (item) i of matrix A. \n",
    "\n",
    "Try it out with an increasing number of maximum clusters, starting with t=1. "
   ]
  },
  {
   "cell_type": "code",
   "execution_count": 11,
   "metadata": {},
   "outputs": [],
   "source": [
    "# import the flat cluster function from scipy\n",
    "from scipy.cluster.hierarchy import fcluster"
   ]
  },
  {
   "cell_type": "code",
   "execution_count": 12,
   "metadata": {},
   "outputs": [],
   "source": [
    "clustering = fcluster(TreeA,t=1, criterion= 'maxclust')"
   ]
  },
  {
   "cell_type": "code",
   "execution_count": 213,
   "metadata": {},
   "outputs": [
    {
     "name": "stdout",
     "output_type": "stream",
     "text": [
      "Number of maximum clusters: 1\n",
      "a : 1\n",
      "o : 1\n",
      "k : 1\n",
      "e : 1\n",
      "Number of maximum clusters: 2\n",
      "a : 1\n",
      "o : 1\n",
      "k : 2\n",
      "e : 1\n",
      "Number of maximum clusters: 3\n",
      "a : 1\n",
      "o : 1\n",
      "k : 2\n",
      "e : 1\n",
      "Number of maximum clusters: 4\n",
      "a : 1\n",
      "o : 1\n",
      "k : 2\n",
      "e : 1\n",
      "Number of maximum clusters: 5\n",
      "a : 1\n",
      "o : 1\n",
      "k : 2\n",
      "e : 1\n",
      "Number of maximum clusters: 6\n",
      "a : 1\n",
      "o : 1\n",
      "k : 2\n",
      "e : 1\n"
     ]
    }
   ],
   "source": [
    "for i in [1,2,3,4,5,6]:\n",
    "    clustering = fcluster(TreeA,t=i, criterion= 'maxclust')\n",
    "    print('Number of maximum clusters:',i)\n",
    "    for letter, cluster in zip(letters, clustering):\n",
    "       print (letter,':', cluster)\n"
   ]
  },
  {
   "cell_type": "markdown",
   "metadata": {
    "deletable": false,
    "editable": false,
    "nbgrader": {
     "checksum": "c16259c177b030b2ac65dd8503cd2ccd",
     "grade": false,
     "grade_id": "cell-e2bfcb0b6d103eb7",
     "locked": true,
     "schema_version": 1,
     "solution": false
    }
   },
   "source": [
    "Compare it with the dendrogram of your clustering and discuss briefly."
   ]
  },
  {
   "cell_type": "markdown",
   "metadata": {
    "deletable": false,
    "nbgrader": {
     "checksum": "908fa5260f98879c3d60ee810d4c377a",
     "grade": true,
     "grade_id": "cell-4818a00062959209",
     "locked": false,
     "points": 2,
     "schema_version": 1,
     "solution": true
    }
   },
   "source": [
    "When we set the number of maximum clusters to 1, we have all the letters 'a', 'o', 'k' and 'e' in one cluster. As we increase the number of maximum clusters to 2, we have two clusters: a cluster containing 'a', 'o' and 'e', and another cluster containing just 'k'. As we continue to increase the number of maximum clusters to 3, 4, 5, and even 6, I noticed that there is no change in classification. This means that no matter how big the number of maximum clusters gets, there can't be more than 2 clusters. From this we can conclude that the letters are classified based on them being a 'vowel' or a 'consonant'. The letters 'a', 'o' and 'e' are all vowels, hence the distance between them is really small compared to the distance of each to the letter 'k', hence they can't be put in the same cluster with 'k', which is a consonant."
   ]
  },
  {
   "cell_type": "markdown",
   "metadata": {
    "deletable": false,
    "editable": false,
    "nbgrader": {
     "checksum": "0fdade14ae7e1e228ba4630762ad8ab0",
     "grade": false,
     "grade_id": "cell-8e8ef39140f02f4c",
     "locked": true,
     "schema_version": 1,
     "solution": false
    }
   },
   "source": [
    "## Loading the data\n",
    "\n",
    "For our task, you will use the data relating to Task 1. Let's load the files we'll need to the notebook."
   ]
  },
  {
   "cell_type": "code",
   "execution_count": 16,
   "metadata": {},
   "outputs": [],
   "source": [
    "''' First, we import the pandas [pandas.pydata.org] library,a useful package for data analysis. \n",
    "If you don't have conda installed, type: \n",
    "\"conda install pandas\" \n",
    "in the terminal in your cogsci environment. \n",
    "'''\n",
    "import pandas as pd \n",
    "\n",
    "# edit the pandas display options\n",
    "pd.set_option('display.max_columns', 12)"
   ]
  },
  {
   "cell_type": "code",
   "execution_count": 17,
   "metadata": {},
   "outputs": [],
   "source": [
    "# then we import the different files relating to Task 1\n",
    "words1 = pd.read_csv(\"./words1.csv\", index_col=0).values.flatten()\n",
    "feats_mcrae = pd.read_csv(\"./feats_mcrae.csv\", index_col=0).values.flatten()\n",
    "\n",
    "matrix1_mcrae = pd.read_csv(\"./matrix1_mcrae.csv\", index_col=0).as_matrix()\n",
    "matrix1_bnc = pd.read_csv(\"./matrix1_bnc.csv\", index_col=0).as_matrix()"
   ]
  },
  {
   "cell_type": "markdown",
   "metadata": {
    "deletable": false,
    "editable": false,
    "nbgrader": {
     "checksum": "d3fd275bdb2523dbb92d6072c69b4dd5",
     "grade": false,
     "grade_id": "cell-2ada6335b3a4147a",
     "locked": true,
     "schema_version": 1,
     "solution": false
    }
   },
   "source": [
    "### About the data\n",
    "You've just loaded the words we want to cluster, in **words1**. These are the the 44 most frequently-occurring content words in the British National Corpus [(BNC)[1]](#References). You can see what each word is (e.g., banana, boat) by printing the **words1** matrix. \n",
    "\n",
    "You have also loaded two matrices of features: **matrix1_mcrae** and **matrix1_bnc**\n",
    "\n",
    "Each of the two matrices represents a different set of features for the words in **words1**.\n",
    "\n",
    "**matrix1 bnc** is a 44×2497 matrix where each row contains features for the corresponding word in **words1**. The features are the number of times a target word co-occurs with a context word in the BNC, using a context window of ± 5 words. \n",
    "\n",
    "**matrix1_mcrae** is a 44 × 2526 matrix where each row contains features for the corresponding word in **words1**. The  features are based on judgments by humans in a \"norming\" study conducted by [McRae et al. [2]](#References). \n",
    "\n",
    "The list of features can be seen in **feats_mcrae**. To do this, you can print **feats_mcrae** in the cell below. Notice that there are many features, so they won't print all at once. Remember that you can print specific entries in a matrix using notation like `feats_mcrae[200:240]` -- that will product the 200th through the 240th features in the McRae corpus.\n",
    "\n",
    "Each matrix cell in **matrix1_mcrae** corresponds to the number of humans that listed a feature for a given target word. (You have already worked with McRae et al.’s data in assignment 1)."
   ]
  },
  {
   "cell_type": "markdown",
   "metadata": {
    "deletable": false,
    "editable": false,
    "nbgrader": {
     "checksum": "c3d0e8ca9fac97ae1b7d5d9e97af22f3",
     "grade": false,
     "grade_id": "cell-2bd0974fdbd50878",
     "locked": true,
     "schema_version": 1,
     "solution": false
    }
   },
   "source": [
    "Start by inspecting the data (e.g. using the print() command) and make sure you understand what each file contains."
   ]
  },
  {
   "cell_type": "code",
   "execution_count": 18,
   "metadata": {
    "deletable": false,
    "nbgrader": {
     "checksum": "87abfa2be71677d1adba82dc84d11d65",
     "grade": true,
     "grade_id": "cell-6bc6f624dc7ad67f",
     "locked": false,
     "points": 0,
     "schema_version": 1,
     "solution": true
    }
   },
   "outputs": [
    {
     "name": "stdout",
     "output_type": "stream",
     "text": [
      "words1 = ['banana' 'boat' 'bottle' 'bowl' 'car' 'cat' 'cherry' 'chicken' 'chisel'\n",
      " 'corn' 'cow' 'cup' 'dog' 'duck' 'eagle' 'elephant' 'hammer' 'helicopter'\n",
      " 'kettle' 'knife' 'lettuce' 'lion' 'motorcycle' 'mushroom' 'onion' 'owl'\n",
      " 'peacock' 'pear' 'pen' 'pencil' 'penguin' 'pig' 'pineapple' 'potato'\n",
      " 'rocket' 'scissors' 'screwdriver' 'ship' 'snail' 'spoon' 'swan'\n",
      " 'telephone' 'truck' 'turtle']\n",
      "matrix1_mcrae = [[0 0 0 ... 0 0 0]\n",
      " [0 0 0 ... 0 0 0]\n",
      " [0 0 0 ... 0 0 0]\n",
      " ...\n",
      " [0 0 0 ... 0 0 0]\n",
      " [0 0 0 ... 0 0 0]\n",
      " [0 0 0 ... 0 0 0]]\n",
      "matrix1_bnc = [[  3   4   9 ...   0   0   0]\n",
      " [ 95  68  50 ...   0   0   0]\n",
      " [ 49  35  70 ...   0   0   0]\n",
      " ...\n",
      " [130  57  62 ...   0   0   0]\n",
      " [ 13  10   8 ...   0   0   0]\n",
      " [  3   5   5 ...   0   0   0]]\n",
      "feats_mcrae = ['a_baby_bird' 'a_baby_cow' 'a_baby_deer' ... 'worn_with_suits'\n",
      " 'worn_with_suspenders' 'worn_with_ties']\n"
     ]
    }
   ],
   "source": [
    "print(\"words1 =\",words1)\n",
    "print(\"matrix1_mcrae =\",matrix1_mcrae)\n",
    "print(\"matrix1_bnc =\",matrix1_bnc)\n",
    "print(\"feats_mcrae =\",feats_mcrae)\n",
    "#raise NotImplementedError()"
   ]
  },
  {
   "cell_type": "markdown",
   "metadata": {
    "deletable": false,
    "editable": false,
    "nbgrader": {
     "checksum": "a7ef85728f2b14b8cc614be336f76d96",
     "grade": false,
     "grade_id": "cell-1e202c32d5710e27",
     "locked": true,
     "schema_version": 1,
     "solution": false
    }
   },
   "source": [
    "# Task 1: Semantic Categories\n",
    "\n",
    "## Question 1 (15%): \n",
    "a) Cluster the target words on the basis of the vector representations obtained from the BNC. \n",
    "Do this by using all three clustering criteria (single-linkage, complete-linkage, and average-linkage). \n",
    "Show the dendrogram output for each criterion. Make sure the plots are readable. You can use multiple cells to plot each tree."
   ]
  },
  {
   "cell_type": "code",
   "execution_count": 124,
   "metadata": {
    "deletable": false,
    "nbgrader": {
     "checksum": "c60bacbd6610ef55b53d1a2da4824402",
     "grade": true,
     "grade_id": "cell-5b4022a13dab3205",
     "locked": false,
     "points": 5,
     "schema_version": 1,
     "solution": true
    }
   },
   "outputs": [
    {
     "data": {
      "image/png": "[encoded data removed]",
      "text/plain": [
       "<matplotlib.figure.Figure at 0x616ee8a90>"
      ]
     },
     "metadata": {},
     "output_type": "display_data"
    }
   ],
   "source": [
    "# YOUR CODE HERE\n",
    "\n",
    "f, ax1 = plt.subplots(1, sharey=True, figsize=(16,8))\n",
    "plt.title(\"Single-Linkage Clustering from BNC Matrix\", size=30)\n",
    "single_BNC = linkage(matrix1_bnc, 'single','cosine')\n",
    "ax1 = dendrogram(single_BNC, labels=words1, orientation='top', leaf_font_size=15);\n",
    "\n",
    "#raise NotImplementedError()"
   ]
  },
  {
   "cell_type": "code",
   "execution_count": 123,
   "metadata": {},
   "outputs": [
    {
     "data": {
      "image/png": "[encoded data removed]",
      "text/plain": [
       "<matplotlib.figure.Figure at 0x616c437f0>"
      ]
     },
     "metadata": {},
     "output_type": "display_data"
    }
   ],
   "source": [
    "f, ax1 = plt.subplots(1, sharey=True, figsize=(16,8))\n",
    "plt.title(\"Complete-Linkage Clustering from BNC Matrix\",size=30)\n",
    "complete_BNC = linkage(matrix1_bnc, 'complete','cosine')\n",
    "ax1 = dendrogram(complete_BNC, labels=words1, orientation='top', leaf_font_size=15);"
   ]
  },
  {
   "cell_type": "code",
   "execution_count": 122,
   "metadata": {},
   "outputs": [
    {
     "data": {
      "image/png": "[encoded data removed]",
      "text/plain": [
       "<matplotlib.figure.Figure at 0x616975208>"
      ]
     },
     "metadata": {},
     "output_type": "display_data"
    }
   ],
   "source": [
    "f, ax1 = plt.subplots(1, sharey=True, figsize=(16,8))\n",
    "plt.title(\"Average-Linkage Clustering from BNC Matrix\",size=30)\n",
    "average_BNC = linkage(matrix1_bnc, 'average', 'cosine')\n",
    "ax1 = dendrogram(average_BNC, labels=words1, orientation='top', leaf_font_size=15);"
   ]
  },
  {
   "cell_type": "markdown",
   "metadata": {
    "deletable": false,
    "nbgrader": {
     "checksum": "0e32e9506ae48a1b2a1c2f0da174cce0",
     "grade": true,
     "grade_id": "cell-5d7846860f93b4cc",
     "locked": false,
     "points": 5,
     "schema_version": 1,
     "solution": true
    }
   },
   "source": [
    " \n",
    " "
   ]
  },
  {
   "cell_type": "markdown",
   "metadata": {
    "deletable": false,
    "editable": false,
    "nbgrader": {
     "checksum": "65a22d4586588b65d374085c5cd8fa24",
     "grade": false,
     "grade_id": "cell-fbd2ac66a3656b15",
     "locked": true,
     "schema_version": 1,
     "solution": false
    }
   },
   "source": [
    "b) Which criterion do you think gives the most reasonable clusterings? Explain the differences between the criteria in your own words, and interpret their differences in clustering."
   ]
  },
  {
   "cell_type": "markdown",
   "metadata": {
    "deletable": false,
    "nbgrader": {
     "checksum": "d9606237eba4e2b3bdc2108c4c83fde0",
     "grade": true,
     "grade_id": "cell-10fdea0d165fb41e",
     "locked": false,
     "points": 5,
     "schema_version": 1,
     "solution": true
    }
   },
   "source": [
    "The three criteria differ in the way they merge clusters and how the distance is measured between each cluster.\n",
    "\n",
    "Complete linkage hierarchical clustering measures the longest distance between two points in each cluster and merging the two clusters with the smallest maximum pairwise distance (clustering the two most dissimilar documents). Single linkage hierarchical clustering measures the shortest distance between two points in each cluster and merging the two clusters with the smallest minimum pairwise distance (clustering the two most similar documents). Average linkage hierarchical clustering, the distance between two clusters is defined as the average distance between each point in one cluster to every point in the other cluster.\n",
    "\n",
    "Through inspection, I can see that Complete Linkage classifies the objects into their most appropriate clusters. You can tell that each member in a cluster shares a distinctive category, like how 'motorcycle', 'car', 'truck', 'boat', 'ship', 'helicopter', and 'rocket' are all vehicles, and how 'scissors', 'pen', 'pencil', 'screwdriver'. 'chisel', 'hammer', and 'knife' are all tools. There are some misclassifications like how 'telephone' is under the same cluster with other animals, but out of all the three criteria, I still think that the Complete Linkage criterion exhibits the most sensible and meaningful clusterings."
   ]
  },
  {
   "cell_type": "markdown",
   "metadata": {
    "deletable": false,
    "editable": false,
    "nbgrader": {
     "checksum": "3825a40cc4e08c53c126dbe21a8dbdc6",
     "grade": false,
     "grade_id": "cell-62706359375074c0",
     "locked": true,
     "schema_version": 1,
     "solution": false
    }
   },
   "source": [
    "## Question 2 (10%) :  \n",
    "a) Cluster the target words again, but this time on the basis of the vector representations obtained from McRae et al.’s data. Again, perform the clustering for all three criteria and answer questions (a)–(b) above. "
   ]
  },
  {
   "cell_type": "code",
   "execution_count": 119,
   "metadata": {
    "deletable": false,
    "nbgrader": {
     "checksum": "3d6223108574165fdfc2964690e4f961",
     "grade": true,
     "grade_id": "cell-b2e0ba10153d02c7",
     "locked": false,
     "points": 5,
     "schema_version": 1,
     "solution": true
    }
   },
   "outputs": [
    {
     "data": {
      "image/png": "[encoded data removed]",
      "text/plain": [
       "<matplotlib.figure.Figure at 0x614a23550>"
      ]
     },
     "metadata": {},
     "output_type": "display_data"
    }
   ],
   "source": [
    "f, ax1 = plt.subplots(1, sharey=True, figsize=(16,8))\n",
    "plt.title(\"Single-Linkage Clustering from McRae Matrix\", size=30)\n",
    "single_McRae = linkage(matrix1_mcrae, 'single', 'cosine')\n",
    "ax1 = dendrogram(single_McRae, labels=words1, orientation= 'top', leaf_font_size=15);\n",
    "\n",
    "#raise NotImplementedError()"
   ]
  },
  {
   "cell_type": "code",
   "execution_count": 120,
   "metadata": {},
   "outputs": [
    {
     "data": {
      "image/png": "[encoded data removed]",
      "text/plain": [
       "<matplotlib.figure.Figure at 0x61396a550>"
      ]
     },
     "metadata": {},
     "output_type": "display_data"
    }
   ],
   "source": [
    "f, ax1 = plt.subplots(1, sharey=True, figsize=(16,8))\n",
    "plt.title(\"Complete-Linkage Clustering from McRae Matrix\", size=30)\n",
    "complete_McRae = linkage(matrix1_mcrae, 'complete', 'cosine')\n",
    "ax1 = dendrogram(complete_McRae, labels=words1, orientation= 'top', leaf_font_size=15);"
   ]
  },
  {
   "cell_type": "code",
   "execution_count": 121,
   "metadata": {},
   "outputs": [
    {
     "data": {
      "image/png": "[encoded data removed]",
      "text/plain": [
       "<matplotlib.figure.Figure at 0x6166c2080>"
      ]
     },
     "metadata": {},
     "output_type": "display_data"
    }
   ],
   "source": [
    "f, ax1 = plt.subplots(1, sharey=True, figsize=(16,8))\n",
    "plt.title(\"Average-Linkage Clustering from McRae Matrix\", size=30)\n",
    "average_McRae = linkage(matrix1_mcrae, 'average', 'cosine')\n",
    "ax1 = dendrogram(average_McRae, labels=words1, orientation= 'top', leaf_font_size=15);\n",
    "# use leaf_font_size"
   ]
  },
  {
   "cell_type": "markdown",
   "metadata": {
    "deletable": false,
    "editable": false,
    "nbgrader": {
     "checksum": "f00ebcaf920cd3cbd813eddea7f21c61",
     "grade": false,
     "grade_id": "cell-9a7b87538bc766df",
     "locked": true,
     "schema_version": 1,
     "solution": false
    }
   },
   "source": [
    "b) Which criterion gives the most reasonable clusterings according to the words helicopter and bottle? "
   ]
  },
  {
   "cell_type": "markdown",
   "metadata": {
    "deletable": false,
    "nbgrader": {
     "checksum": "98d8dfa04c315332a835357ffc1f4498",
     "grade": true,
     "grade_id": "cell-3faa51800db9a0ed",
     "locked": false,
     "points": 5,
     "schema_version": 1,
     "solution": true
    }
   },
   "source": [
    "For the word 'helicopter', the most reasonable clustering is the Complete Linkage because it places 'helicopter' under the same cluster with the word 'rocket'. Both of these words have similar properties, such as how they represent 'vehicles' and they both have the behaviour 'flies'. Hence, it is only appropriate that these two words are clustered together. Furthermore, the cluster containing 'helicopter' and 'rocket' is also a member of a much larger cluster which includes the words 'motorcycle', 'car', and 'truck', which are also 'vehicles', but they travel on land (does not fly). In the Single Linkage clustering, 'helicopter' is clustered with 'rocket' as well, but then that cluster belongs to a bigger cluster that contains objects such as 'spoon', 'bowl', and 'pen', which falls under the 'tool' category. Average Linkage also clusters 'helicopter' with a set of tools.\n",
    "\n",
    "The same goes for the word 'bottle'. The Complete Linkage clustering had clustered the word 'bottle' under the same cluster with the word 'cup'. Both of these words exhibit similar properties, which may include being kitchen tools that you drink liquids out of. Looking at the bigger cluster, the Complete Linkage clustering has also placed the cluster containing the words 'bottle' and 'cup' with the words 'telephone', 'bowl', and 'pen', which shares similar (but more general) properties and fall under the same category which is 'tool'.\n"
   ]
  },
  {
   "cell_type": "markdown",
   "metadata": {
    "deletable": false,
    "editable": false,
    "nbgrader": {
     "checksum": "575ee37eaa7a4d7a58632c8fd68debd9",
     "grade": false,
     "grade_id": "cell-140eeb2c09f3bf7b",
     "locked": true,
     "schema_version": 1,
     "solution": false
    }
   },
   "source": [
    "## Question 3 (10%): \n",
    "a) How do the clusters obtained from the two vector representations (BNC and McRae) differ? Discuss which vector representations yields more intuitive and semantically coherent clusters, based on the clustering of the words helicopter and bottle. "
   ]
  },
  {
   "cell_type": "markdown",
   "metadata": {
    "deletable": false,
    "nbgrader": {
     "checksum": "b416c726908c79d266ffbc881a3ec8fc",
     "grade": true,
     "grade_id": "cell-95ac393329bc0a1c",
     "locked": false,
     "points": 5,
     "schema_version": 1,
     "solution": true
    }
   },
   "source": [
    "Overall, I think that the vector representations obtained from the McRae vector yields more intuitive and semantically coherent clusters than the BNC vector. The BNC vector representation tends to yield more individual clusters than subclusters, failing to group similar words together. The McRae vector representation has plenty of subclusters under the main clusters which groups words with similar features together. The McRae vector representation more successfully places words which are closely related featurewise in the same category, compared to the BNC vector representation.\n",
    "\n",
    "The reason behind why the McRae vector cluster words better than the BNC vector is that the McRae vector works on the notion of clustering words that have common features, and these features are determined by humans themselves. So, clustering words with the McRae vector representation are closely related to the human intuition when it comes to categorisation of words. On the other hand, the BNC vector representation is based on the co-occurrence of a target word with a context word. So, when using the BNC vector to categorise things, it will be more accurate in categorising which words are more commonly used together than actually putting them in their appropriate semantic categories."
   ]
  },
  {
   "cell_type": "markdown",
   "metadata": {
    "deletable": false,
    "editable": false,
    "nbgrader": {
     "checksum": "3e900a658c7d602d8176d44c2fe02d00",
     "grade": false,
     "grade_id": "cell-75817bb09fdcf3b9",
     "locked": true,
     "schema_version": 1,
     "solution": false
    }
   },
   "source": [
    "b) What can you infer from the clustering with respect to the semantic category of chicken? Which representation (based on the BNC or McRae’sfeature norms) do you think yields a better clustering for it? \n"
   ]
  },
  {
   "cell_type": "markdown",
   "metadata": {
    "deletable": false,
    "nbgrader": {
     "checksum": "1dfe1ee7fb368a7bc1c65a5027ebcca9",
     "grade": true,
     "grade_id": "cell-9c1714e2cf25180b",
     "locked": false,
     "points": 5,
     "schema_version": 1,
     "solution": true
    }
   },
   "source": [
    "In the BNC vector representation, the word 'chicken' is often placed within a cluster containing foods. In Single Linkage clustering, it is in a cluster with 'potato', and both of them are within another cluster containing the words 'mushroom', 'onion', and then in another cluster containing 'banana' and 'pear', which are all foods. In Complete Linkage clustering, the word 'chicken' is placed in the same cluster with 'potato', then with 'mushroom', 'onion', and 'lettuce', which are all under a bigger cluster containing foods such as 'pineapple', 'pear', 'banana', and 'cherry'. Finally, this trend of semantically categorising 'chicken' as food is also observed in the Average Linkage clustering, where 'chicken' is again placed under the same cluster with 'potato', then under a cluster with 'lettuce', 'mushroom' and 'onion', and then with 'pineapple'.\n",
    "\n",
    "However, in the McRae vector representation, the word 'chicken' is often clustered with words that are semantically categorised as animals instead of food. In Single Linkage clustering, it is first clustered with the word 'peacock', then with 'eagle', then 'duck', 'owl', and then finally with 'penguin' and 'swan', which are all animals. 'Chicken' is also placed in a group of animals in Complete Linkage clustering. It is first clustered with 'peacock', then with 'eagle' and 'owl', and then with 'duck', 'penguin', and 'swan'. Finally, in the Average Linkage clustering, 'chicken' is first clustered with 'peacock', then with 'eagle', 'owl', and then with 'duck', 'penguin' and 'swan'. This further confirms the trend that in the McRae vector representation, the word 'chicken' is semantically categorised as an 'animal' and not a 'food'.\n",
    "\n",
    "The fact that 'chicken' is categorised as a food in the BNC vector representation and an animal in the McRae vector representation shows us that the word 'chicken' frequently co-occurs with other words that fall under the 'food' category, meaning it is often contextually referred as a food than as an animal in British English. However, in the McRae vector representation, the word 'chicken' falls under the semantic category of 'animal' because it exhibits more properties that are distinctive towards animals, such as being a living thing and is able to move.\n",
    "\n",
    "As to which representation yields a better clustering, I think it would be the McRae vector representation because it shows which semantic category 'chicken' falls into, whilst the BNC vector representation shows how often the word 'chicken' co-occurs with words in a particular category in daily usage."
   ]
  },
  {
   "cell_type": "markdown",
   "metadata": {
    "deletable": false,
    "editable": false,
    "nbgrader": {
     "checksum": "217fd0975c7ec9d10f7b684baeeb998b",
     "grade": false,
     "grade_id": "cell-e53992b55ad77b1a",
     "locked": true,
     "schema_version": 1,
     "solution": false
    }
   },
   "source": [
    "## Question 4 (10%) \n",
    "Finally, compare the clusterings you obtain for BNC and McRae vectors against the provided human-produced gold standard classifications.\n",
    "\n",
    "The gold standard classifications were obtained by presenting the words to human participants asking them to name the category to which each noun belonged. Participant responses were freeform strings, i.e., participants were not provided with a list of possible categories. After adjusting for differences in spelling and grouping together synonyms, these responses were used to determine the most “correct” category label for each of the  nouns.\n",
    "\n",
    "To make things easier, only look at the clusters obtained when setting the maximum number of clusters to 6 (which corresponds to the number of most fine-grained gold clusters). "
   ]
  },
  {
   "cell_type": "code",
   "execution_count": 44,
   "metadata": {},
   "outputs": [],
   "source": [
    "# let's import the human classifications\n",
    "human_classification_names = pd.read_csv(\"./categories.txt\", index_col=0)"
   ]
  },
  {
   "cell_type": "code",
   "execution_count": 202,
   "metadata": {
    "deletable": false,
    "nbgrader": {
     "checksum": "939fe0ad44c5b96dc3e240aadd0bfe14",
     "grade": true,
     "grade_id": "cell-5b459ce14b4269cb",
     "locked": false,
     "points": 1,
     "schema_version": 1,
     "solution": true
    }
   },
   "outputs": [],
   "source": [
    "\n",
    "Tree1 = linkage(matrix1_bnc, 'single', 'cosine')\n",
    "clustersSingleBNC = fcluster(Tree1, t=6, criterion='maxclust')\n",
    "\n",
    "Tree2 = linkage(matrix1_bnc, 'complete', 'cosine')\n",
    "clustersCompleteBNC = fcluster(Tree2, t=6, criterion='maxclust')\n",
    "\n",
    "Tree3 = linkage(matrix1_bnc, 'average', 'cosine')\n",
    "clustersAverageBNC = fcluster(Tree3, t=6, criterion='maxclust')\n",
    "\n",
    "    \n",
    "Tree4 = linkage(matrix1_mcrae, 'single', 'cosine')\n",
    "clustersSingleMcRae = fcluster(Tree4, t=6, criterion='maxclust')\n",
    "\n",
    "Tree5 = linkage(matrix1_mcrae, 'complete', 'cosine')\n",
    "clustersCompleteMcRae = fcluster(Tree5, t=6, criterion='maxclust')\n",
    "\n",
    "Tree6 = linkage(matrix1_mcrae, 'average', 'cosine')\n",
    "clustersAverageMcRae = fcluster(Tree6, t=6, criterion='maxclust')"
   ]
  },
  {
   "cell_type": "markdown",
   "metadata": {
    "deletable": false,
    "editable": false,
    "nbgrader": {
     "checksum": "a5ea5e47f28411839bf92dff2d15fcf2",
     "grade": false,
     "grade_id": "cell-cc4cbe90073c6189",
     "locked": true,
     "schema_version": 1,
     "solution": false
    }
   },
   "source": [
    "Compare the clusterings to the gold standard by inspecting the data. To do this, you can use the function \"print_clusters\" below to inspect the clusters. The function takes the vector of words and a vector of cluster indeces as input and prints the clusters together."
   ]
  },
  {
   "cell_type": "code",
   "execution_count": 203,
   "metadata": {},
   "outputs": [],
   "source": [
    "def print_clusters(words_vector, cluster_indeces):\n",
    "    # iterate through categories\n",
    "    for category_index in range(1,7):\n",
    "        # iterate through all the classifications\n",
    "        for index, category in enumerate(cluster_indeces):\n",
    "            # if the word belongs to the current category (1-6), print it \n",
    "            if category == category_index:\n",
    "                print (words_vector[index])\n",
    "        print () "
   ]
  },
  {
   "cell_type": "code",
   "execution_count": 204,
   "metadata": {
    "deletable": false,
    "nbgrader": {
     "checksum": "61091b49557b3130b4cdeff179694fa5",
     "grade": true,
     "grade_id": "cell-fe130a34b91a0e49",
     "locked": false,
     "points": 4,
     "schema_version": 1,
     "solution": true
    }
   },
   "outputs": [
    {
     "name": "stdout",
     "output_type": "stream",
     "text": [
      "---------- Single BNC ----------\n",
      "banana\n",
      "boat\n",
      "bottle\n",
      "bowl\n",
      "car\n",
      "cat\n",
      "cherry\n",
      "chicken\n",
      "chisel\n",
      "cow\n",
      "cup\n",
      "dog\n",
      "duck\n",
      "eagle\n",
      "elephant\n",
      "hammer\n",
      "helicopter\n",
      "kettle\n",
      "knife\n",
      "lettuce\n",
      "lion\n",
      "motorcycle\n",
      "mushroom\n",
      "onion\n",
      "pear\n",
      "pen\n",
      "pencil\n",
      "pig\n",
      "pineapple\n",
      "potato\n",
      "rocket\n",
      "scissors\n",
      "screwdriver\n",
      "ship\n",
      "spoon\n",
      "swan\n",
      "telephone\n",
      "truck\n",
      "turtle\n",
      "\n",
      "owl\n",
      "\n",
      "snail\n",
      "\n",
      "peacock\n",
      "\n",
      "penguin\n",
      "\n",
      "corn\n",
      "\n"
     ]
    }
   ],
   "source": [
    "print('---------- Single BNC ----------')\n",
    "print_clusters(words1, clustersSingleBNC)"
   ]
  },
  {
   "cell_type": "code",
   "execution_count": 205,
   "metadata": {},
   "outputs": [
    {
     "name": "stdout",
     "output_type": "stream",
     "text": [
      "---------- Complete BNC ----------\n",
      "boat\n",
      "car\n",
      "helicopter\n",
      "motorcycle\n",
      "rocket\n",
      "ship\n",
      "truck\n",
      "\n",
      "banana\n",
      "cherry\n",
      "chicken\n",
      "lettuce\n",
      "mushroom\n",
      "onion\n",
      "pear\n",
      "pineapple\n",
      "potato\n",
      "\n",
      "chisel\n",
      "hammer\n",
      "knife\n",
      "pen\n",
      "pencil\n",
      "scissors\n",
      "screwdriver\n",
      "\n",
      "bowl\n",
      "cup\n",
      "kettle\n",
      "spoon\n",
      "\n",
      "bottle\n",
      "corn\n",
      "cow\n",
      "\n",
      "cat\n",
      "dog\n",
      "duck\n",
      "eagle\n",
      "elephant\n",
      "lion\n",
      "owl\n",
      "peacock\n",
      "penguin\n",
      "pig\n",
      "snail\n",
      "swan\n",
      "telephone\n",
      "turtle\n",
      "\n"
     ]
    }
   ],
   "source": [
    "print('---------- Complete BNC ----------')\n",
    "print_clusters(words1, clustersCompleteBNC)"
   ]
  },
  {
   "cell_type": "code",
   "execution_count": 206,
   "metadata": {},
   "outputs": [
    {
     "name": "stdout",
     "output_type": "stream",
     "text": [
      "---------- Average BNC ----------\n",
      "banana\n",
      "bottle\n",
      "bowl\n",
      "cherry\n",
      "chicken\n",
      "kettle\n",
      "lettuce\n",
      "mushroom\n",
      "onion\n",
      "pear\n",
      "pineapple\n",
      "potato\n",
      "spoon\n",
      "\n",
      "boat\n",
      "car\n",
      "cat\n",
      "chisel\n",
      "cow\n",
      "dog\n",
      "duck\n",
      "eagle\n",
      "elephant\n",
      "hammer\n",
      "helicopter\n",
      "knife\n",
      "lion\n",
      "owl\n",
      "peacock\n",
      "pen\n",
      "pencil\n",
      "penguin\n",
      "pig\n",
      "rocket\n",
      "screwdriver\n",
      "ship\n",
      "snail\n",
      "swan\n",
      "telephone\n",
      "truck\n",
      "turtle\n",
      "\n",
      "cup\n",
      "\n",
      "corn\n",
      "\n",
      "motorcycle\n",
      "\n",
      "scissors\n",
      "\n"
     ]
    }
   ],
   "source": [
    "print('---------- Average BNC ----------')\n",
    "print_clusters(words1, clustersAverageBNC)"
   ]
  },
  {
   "cell_type": "code",
   "execution_count": 207,
   "metadata": {},
   "outputs": [
    {
     "name": "stdout",
     "output_type": "stream",
     "text": [
      "---------- Single McRae ----------\n",
      "bottle\n",
      "cup\n",
      "\n",
      "banana\n",
      "cherry\n",
      "corn\n",
      "lettuce\n",
      "mushroom\n",
      "onion\n",
      "pear\n",
      "pineapple\n",
      "potato\n",
      "\n",
      "boat\n",
      "bowl\n",
      "car\n",
      "cat\n",
      "chicken\n",
      "chisel\n",
      "cow\n",
      "dog\n",
      "duck\n",
      "eagle\n",
      "elephant\n",
      "hammer\n",
      "helicopter\n",
      "knife\n",
      "lion\n",
      "motorcycle\n",
      "owl\n",
      "peacock\n",
      "pen\n",
      "penguin\n",
      "pig\n",
      "rocket\n",
      "scissors\n",
      "screwdriver\n",
      "ship\n",
      "snail\n",
      "spoon\n",
      "swan\n",
      "truck\n",
      "turtle\n",
      "\n",
      "kettle\n",
      "\n",
      "pencil\n",
      "\n",
      "telephone\n",
      "\n"
     ]
    }
   ],
   "source": [
    "print('---------- Single McRae ----------')\n",
    "print_clusters(words1, clustersSingleMcRae)"
   ]
  },
  {
   "cell_type": "code",
   "execution_count": 208,
   "metadata": {},
   "outputs": [
    {
     "name": "stdout",
     "output_type": "stream",
     "text": [
      "---------- Complete McRae ----------\n",
      "banana\n",
      "boat\n",
      "bottle\n",
      "bowl\n",
      "car\n",
      "cat\n",
      "cherry\n",
      "chicken\n",
      "chisel\n",
      "corn\n",
      "cow\n",
      "cup\n",
      "dog\n",
      "duck\n",
      "eagle\n",
      "elephant\n",
      "hammer\n",
      "helicopter\n",
      "kettle\n",
      "knife\n",
      "lettuce\n",
      "lion\n",
      "motorcycle\n",
      "mushroom\n",
      "onion\n",
      "owl\n",
      "peacock\n",
      "pear\n",
      "pen\n",
      "pencil\n",
      "penguin\n",
      "pig\n",
      "pineapple\n",
      "potato\n",
      "rocket\n",
      "scissors\n",
      "screwdriver\n",
      "ship\n",
      "snail\n",
      "spoon\n",
      "swan\n",
      "telephone\n",
      "truck\n",
      "turtle\n",
      "\n",
      "\n",
      "\n",
      "\n",
      "\n",
      "\n"
     ]
    }
   ],
   "source": [
    "print('---------- Complete McRae ----------')\n",
    "print_clusters(words1, clustersCompleteMcRae)"
   ]
  },
  {
   "cell_type": "code",
   "execution_count": 209,
   "metadata": {},
   "outputs": [
    {
     "name": "stdout",
     "output_type": "stream",
     "text": [
      "---------- Average McRae ----------\n",
      "cat\n",
      "chicken\n",
      "cow\n",
      "dog\n",
      "duck\n",
      "eagle\n",
      "elephant\n",
      "lion\n",
      "owl\n",
      "peacock\n",
      "penguin\n",
      "pig\n",
      "snail\n",
      "swan\n",
      "turtle\n",
      "\n",
      "banana\n",
      "cherry\n",
      "corn\n",
      "lettuce\n",
      "mushroom\n",
      "onion\n",
      "pear\n",
      "pineapple\n",
      "potato\n",
      "\n",
      "pencil\n",
      "\n",
      "boat\n",
      "car\n",
      "motorcycle\n",
      "ship\n",
      "truck\n",
      "\n",
      "chisel\n",
      "hammer\n",
      "helicopter\n",
      "kettle\n",
      "knife\n",
      "rocket\n",
      "scissors\n",
      "screwdriver\n",
      "\n",
      "bottle\n",
      "bowl\n",
      "cup\n",
      "pen\n",
      "spoon\n",
      "telephone\n",
      "\n"
     ]
    }
   ],
   "source": [
    "print('---------- Average McRae ----------')\n",
    "print_clusters(words1, clustersAverageMcRae)"
   ]
  },
  {
   "cell_type": "code",
   "execution_count": 210,
   "metadata": {},
   "outputs": [
    {
     "name": "stdout",
     "output_type": "stream",
     "text": [
      "---------- Gold Standard ----------\n",
      "           NOUN                        CLASS\n",
      "0        banana  fruitTree-vegetable-natural\n",
      "1        cherry  fruitTree-vegetable-natural\n",
      "2          pear  fruitTree-vegetable-natural\n",
      "3     pineapple  fruitTree-vegetable-natural\n",
      "4        bottle       tool-artifact-artifact\n",
      "5          bowl       tool-artifact-artifact\n",
      "6        chisel       tool-artifact-artifact\n",
      "7           cup       tool-artifact-artifact\n",
      "8        hammer       tool-artifact-artifact\n",
      "9        kettle       tool-artifact-artifact\n",
      "10        knife       tool-artifact-artifact\n",
      "11       pencil       tool-artifact-artifact\n",
      "12          pen       tool-artifact-artifact\n",
      "13     scissors       tool-artifact-artifact\n",
      "14  screwdriver       tool-artifact-artifact\n",
      "15        spoon       tool-artifact-artifact\n",
      "16    telephone       tool-artifact-artifact\n",
      "17         boat    vehicle-artifact-artifact\n",
      "18   motorcycle    vehicle-artifact-artifact\n",
      "19          car    vehicle-artifact-artifact\n",
      "20   helicopter    vehicle-artifact-artifact\n",
      "21       rocket    vehicle-artifact-artifact\n",
      "22         ship    vehicle-artifact-artifact\n",
      "23        truck    vehicle-artifact-artifact\n",
      "24          cat  groundAnimal-animal-natural\n",
      "25          cow  groundAnimal-animal-natural\n",
      "26          dog  groundAnimal-animal-natural\n",
      "27     elephant  groundAnimal-animal-natural\n",
      "28         lion  groundAnimal-animal-natural\n",
      "29          pig  groundAnimal-animal-natural\n",
      "30        snail  groundAnimal-animal-natural\n",
      "31       turtle  groundAnimal-animal-natural\n",
      "32      chicken          bird-animal-natural\n",
      "33         duck          bird-animal-natural\n",
      "34        eagle          bird-animal-natural\n",
      "35          owl          bird-animal-natural\n",
      "36      peacock          bird-animal-natural\n",
      "37      penguin          bird-animal-natural\n",
      "38         swan          bird-animal-natural\n",
      "39         corn      green-vegetable-natural\n",
      "40      lettuce      green-vegetable-natural\n",
      "41     mushroom      green-vegetable-natural\n",
      "42        onion      green-vegetable-natural\n",
      "43       potato      green-vegetable-natural\n"
     ]
    }
   ],
   "source": [
    "print('---------- Gold Standard ----------')\n",
    "print(human_classification_names)"
   ]
  },
  {
   "cell_type": "markdown",
   "metadata": {
    "deletable": false,
    "editable": false,
    "nbgrader": {
     "checksum": "81169f5bc451ed221327a981f3034058",
     "grade": false,
     "grade_id": "cell-62df8c9505d66ad6",
     "locked": true,
     "schema_version": 1,
     "solution": false
    }
   },
   "source": [
    "Can you draw any conclusions regarding which semantic space representation (BNC vs McRae) and which clustering criterion works best? Discuss below."
   ]
  },
  {
   "cell_type": "markdown",
   "metadata": {
    "deletable": false,
    "nbgrader": {
     "checksum": "a5c7b2a087b137016c51bd246dc8d9e9",
     "grade": true,
     "grade_id": "cell-ec1ba2a62368da78",
     "locked": false,
     "points": 5,
     "schema_version": 1,
     "solution": true
    }
   },
   "source": [
    "None of the semantic space representation perfectly matches the Gold Standard classification. There are several misclassifications that are unique to one semantic space representation but there are also some that are common in both.\n",
    "\n",
    "The first common misclassification lies mainly in the category tool-artifact-artifact. Most of the BNC and McRae semantic space representation placed them in several different clusters. The reason behind this misclassification might be because the category 'tool' is very vague and not distinctive. To solve this issue, more categories can be added, and words within a cluster will have more similarity. For example, instead of putting 'knife' and 'telephone' under the cluster 'tool', you can put 'knife' along with 'spoon' in 'kitchen utensils' and 'telephone' in 'electronic devices' along with 'kettle'.\n",
    "\n",
    "In addition to that, both the BNC and McRae semantic space representation tend to just combine the categories green-vegetable-natural with fruitTree-vegetable-natural under one big cluster which looks like it would be the category 'food'.\n",
    "\n",
    "Furthermore, as I discussed in Question(3(b)), the BNC space representation classifies 'chicken' as something that belongs to the category 'food'. However, there is no such category called 'food' in the list of Gold Standard classes. You can't necessarily fit 'chicken' under 'green-vegetable-natural' nor can you fit it under 'fruitTree-vegetable-natural'. Therefore the misclassification of 'chicken' in any BNC space representation is as predicted.\n",
    "\n",
    "The BNC space representation cluster the words based on the frequency of their co-occurrence with other context words in the corpus, and not their features. The Gold Standard classes differentiate the category 'animal' into two clusters: bird-animal-natural and groundAnimal-animal-natural. Since the BNC does not contain the features of each animal as well as the distinctive features of birds and ground animals, it does not know whether an animal falls under the 'bird' or the 'ground animal' category.\n",
    "\n",
    "After a thorough inspection of the clusters, I think the semantic space and clustering criterion that works best is the McRae semantic space and the Average Link clustering criterion. Despite several misclassifications and overgeneralizations, I feel like the clusterings placed words in their relatively appropriate and meaningful semantic categories.\n",
    "\n",
    "A probable reason behind why the McRae semantic space is much more suitable than the BNC semantic space is because the McRae semantic space clusters the items based on the similarity of their features. On the other hand, the BNC semantic space counts the frequency of the co-occurrence of the target word with the words the BNC corpus. Basically, the BNC does not tell you how similar two objects are, it tells you more about how often are the two words used together contextually.\n",
    "\n",
    "Also, the Average Linkage clustering criterion provided the best classifications. This might be because the Complete Linkage clustering pays attention to clustering outliers and forcing them into what it thinks is the most appropriate category and that the Single Linkage clustering has a tendency to form individual clusters and link single words, forming a long chain of words that do not possess any meaningful similarity."
   ]
  },
  {
   "cell_type": "markdown",
   "metadata": {
    "deletable": false,
    "editable": false,
    "nbgrader": {
     "checksum": "f344edc04a83f4dabd76fcb1b9333d4f",
     "grade": false,
     "grade_id": "cell-856d8b7160d5c768",
     "locked": true,
     "schema_version": 1,
     "solution": false
    }
   },
   "source": [
    "# Task 2: Exemplar-based Model\n",
    "In this task you will identify the semantic category of new words based on established categories of known words. You will do this by building an **exemplar-based model** that identifies the category of each new word by comparing it with known exemplars, again on the basis of their semantic space representations. Specifically, the model determines the category of a new word as follows:\n",
    "\n",
    "- It measures the new word's pairwise similarity to all known exemplars. This is done by computing the cosine similarity (i.e., cosine of the angle) between the new word’s vector representation and the vector representation of each known exemplar.\n",
    "\n",
    "\n",
    "- It then assigns the new word the category of the exemplar that yielded the highest similarity score.\n",
    "\n",
    "\n",
    "In Task 1, you worked with the known exemplars. \n",
    "The data for Task 2 contains the new target words you want to find categories for. In this task you will additionally use the files **categorynames.csv** and **categoryindices.csv** which lists the semantic category of every target word in the Task1. \n",
    "\n",
    "The categories (obtained from [here](http://wordspace.collocations.de/doku.php/data:esslli2008:concrete_%20nouns_categorization)) are six in total (e.g., bird-animalnatural,vehicle-artifact-artifact). They are organised hierarchically: from top classes (i.e. artifact and natural) to more finegrained categories (e.g. groundAnimal or fruitTree).\n",
    "\n",
    "**category_names** (corresponding to the **categorynames.csv** file) is a column vector with one category name per row and **category_indices** (corresponding to the **categoryindices.csv** file) is a column vector which indexes each target word in **words1** with a category number ranging from 1 to 6. The index itself corresponds to the row number in **categorynames**."
   ]
  },
  {
   "cell_type": "code",
   "execution_count": 35,
   "metadata": {},
   "outputs": [],
   "source": [
    "# We import the different files for task 2\n",
    "words2 = pd.read_csv(\"./words2.csv\", index_col=0).values.flatten()\n",
    "feats_mcrae = pd.read_csv(\"./feats_mcrae.csv\", index_col=0).values.flatten()\n",
    "matrix2_mcrae = pd.read_csv(\"./matrix2_mcrae.csv\", index_col=0).as_matrix()\n",
    "matrix2_bnc = pd.read_csv(\"./matrix2_bnc.csv\", index_col=0).as_matrix()"
   ]
  },
  {
   "cell_type": "code",
   "execution_count": 36,
   "metadata": {},
   "outputs": [],
   "source": [
    "# we import the files relating to **categories**\n",
    "category_names = pd.read_csv(\"./categorynames.csv\", index_col=0).values.flatten()\n",
    "category_indices = pd.read_csv(\"./categoryindices.csv\", index_col=0).values.flatten()"
   ]
  },
  {
   "cell_type": "markdown",
   "metadata": {},
   "source": [
    "## Question 5 (15%)\n",
    "Implement the exemplar-based model as described above. Apply your implementation to predict the categories for the new words in words2, using the\n",
    "vector space from McRae et al.’s data. Inspect the output of your model manually. Based on your intuitions discuss which words you think were correctly classified, and which ones\n",
    "weren’t. Can you think of an explanation for the classifications and misclassifications?"
   ]
  },
  {
   "cell_type": "code",
   "execution_count": 214,
   "metadata": {},
   "outputs": [],
   "source": [
    "# first implement the cosine similarity function\n",
    "def cosine_sim(M1,M2):\n",
    "    dot_product = np.dot(M1,M2)\n",
    "    norm_a = np.linalg.norm(M1)\n",
    "    norm_b = np.linalg.norm(M2)\n",
    "    similarity = dot_product / (norm_a * norm_b)\n",
    "    return similarity"
   ]
  },
  {
   "cell_type": "code",
   "execution_count": 104,
   "metadata": {},
   "outputs": [],
   "source": [
    "# Implement the exemplar-based categorisation model here. \n",
    "def exemplar_model(exemplar_matrix, target_matrix, words2categorise):    \n",
    "    # create a vector predictedCatIndices in which you save the predicted category index \n",
    "    predictedCatIndices = [] \n",
    "    \n",
    "    # for each item\n",
    "        # STEP 1:\n",
    "        # compute the cosine similarity between the new word’s vector representation \n",
    "        # and the vector representation of each known exemplar using the cosine_sim function\n",
    "        \n",
    "    \n",
    "    for i in target_matrix:\n",
    "        simvector = []\n",
    "        for j in exemplar_matrix:\n",
    "            sim = cosine_sim(i, j)\n",
    "            simvector.append(sim)\n",
    "            \n",
    "            \n",
    "    # STEP 2: \n",
    "    # assign the new word the category of the exemplar that yielded the highest similarity score\n",
    "        \n",
    "        maximum = simvector[0]\n",
    "        \n",
    "        for k,similarity in enumerate(simvector):\n",
    "            if similarity > maximum:\n",
    "                maximum = similarity\n",
    "                index = k\n",
    "    \n",
    "        predictedCatIndices.append(category_indices[index])\n",
    "\n",
    "    return predictedCatIndices"
   ]
  },
  {
   "cell_type": "code",
   "execution_count": 135,
   "metadata": {
    "deletable": false,
    "nbgrader": {
     "checksum": "8ad9dfdb2f1ef45f204ef5ff7dbb0795",
     "grade": true,
     "grade_id": "cell-c8c8d78725958e96",
     "locked": false,
     "points": 3,
     "schema_version": 1,
     "solution": true
    }
   },
   "outputs": [
    {
     "name": "stdout",
     "output_type": "stream",
     "text": [
      "[0, 0, 4, 1, 2, 3, 0, 4, 4, 4, 5, 5, 4, 3, 5, 3]\n"
     ]
    }
   ],
   "source": [
    "# testing if the exemplar model works and makes sense\n",
    "print(exemplar_model(matrix1_mcrae, matrix2_mcrae, words2))"
   ]
  },
  {
   "cell_type": "code",
   "execution_count": 105,
   "metadata": {
    "deletable": false,
    "nbgrader": {
     "checksum": "5fd5d7d5e74dff458c677546cfc67096",
     "grade": true,
     "grade_id": "cell-9e344235efb0135a",
     "locked": false,
     "points": 10,
     "schema_version": 1,
     "solution": true
    }
   },
   "outputs": [
    {
     "name": "stdout",
     "output_type": "stream",
     "text": [
      "airplane = bird-animal-natural\n",
      "bathtub = bird-animal-natural\n",
      "belt = tool-artifact-artifact\n",
      "blueberry = fruitTree-vegetable-natural\n",
      "broccoli = green-vegetable-natural\n",
      "calf = groundAnimal-animal-natural\n",
      "hawk = bird-animal-natural\n",
      "dagger = tool-artifact-artifact\n",
      "fork = tool-artifact-artifact\n",
      "guitar = tool-artifact-artifact\n",
      "house = vehicle-artifact-artifact\n",
      "missile = vehicle-artifact-artifact\n",
      "razor = tool-artifact-artifact\n",
      "salmon = groundAnimal-animal-natural\n",
      "tank = vehicle-artifact-artifact\n",
      "worm = groundAnimal-animal-natural\n"
     ]
    }
   ],
   "source": [
    "result = exemplar_model(matrix1_mcrae, matrix2_mcrae, words2)\n",
    "\n",
    "for index,i in enumerate(result):\n",
    "    print(words2[index] + \" = \" + category_names[i])\n",
    "    "
   ]
  },
  {
   "cell_type": "markdown",
   "metadata": {
    "deletable": false,
    "editable": false,
    "nbgrader": {
     "checksum": "6fd9345abe82584513cc312be6ae8b95",
     "grade": false,
     "grade_id": "cell-aa953ac4d385cb21",
     "locked": true,
     "schema_version": 1,
     "solution": false
    }
   },
   "source": [
    "## Question 6  (10%)\n",
    "Use your exemplar model to predict the categories for the new words, this time with the vector space constructed from the BNC. \n"
   ]
  },
  {
   "cell_type": "code",
   "execution_count": 126,
   "metadata": {
    "deletable": false,
    "nbgrader": {
     "checksum": "6606a6122bea113512a02ee5c5a8cf74",
     "grade": true,
     "grade_id": "cell-dd087b53b660b2d4",
     "locked": false,
     "points": 5,
     "schema_version": 1,
     "solution": true
    }
   },
   "outputs": [
    {
     "name": "stdout",
     "output_type": "stream",
     "text": [
      "airplane = vehicle-artifact-artifact\n",
      "bathtub = tool-artifact-artifact\n",
      "belt = vehicle-artifact-artifact\n",
      "blueberry = bird-animal-natural\n",
      "broccoli = green-vegetable-natural\n",
      "calf = groundAnimal-animal-natural\n",
      "hawk = vehicle-artifact-artifact\n",
      "dagger = tool-artifact-artifact\n",
      "fork = tool-artifact-artifact\n",
      "guitar = tool-artifact-artifact\n",
      "house = vehicle-artifact-artifact\n",
      "missile = vehicle-artifact-artifact\n",
      "razor = tool-artifact-artifact\n",
      "salmon = bird-animal-natural\n",
      "tank = tool-artifact-artifact\n",
      "worm = bird-animal-natural\n"
     ]
    }
   ],
   "source": [
    "results2 = exemplar_model(matrix1_bnc, matrix2_bnc, words2)\n",
    "\n",
    "for index,i in enumerate(results2):\n",
    "    print(words2[index] + \" = \" + category_names[i])\n",
    "\n",
    "# raise NotImplementedError()"
   ]
  },
  {
   "cell_type": "markdown",
   "metadata": {
    "deletable": false,
    "editable": false,
    "nbgrader": {
     "checksum": "04aa29faee3da822b53c5a7faf6c2688",
     "grade": false,
     "grade_id": "cell-5f36d6e4035c3f19",
     "locked": true,
     "schema_version": 1,
     "solution": false
    }
   },
   "source": [
    "Which words were correctly classified, and which ones weren’t?  \n",
    "Can you think of an explanation for the classifications and misclassifications?"
   ]
  },
  {
   "cell_type": "markdown",
   "metadata": {
    "deletable": false,
    "nbgrader": {
     "checksum": "2d4b679f9fc0a994d8c10af1c06b0424",
     "grade": true,
     "grade_id": "cell-c3ec22359ca16762",
     "locked": false,
     "points": 5,
     "schema_version": 1,
     "solution": true
    }
   },
   "source": [
    "Correctly classified words = airplane, bathtub, broccoli, calf, dagger, fork, guitar, razor\n",
    "\n",
    "Incorrectly classified words = belt, blueberry, hawk, house, missile, salmon, tank, worm\n",
    "\n",
    "BNC classifies words in the notion of the frequency of a target word co-occurring with a context word. Hence, it places words that are often used together in the same category, but it does not necessarily mean that they belong to the same semantic category.\n",
    "\n",
    "Let's take a look at the misclassified words and the possible reasons why they were misclassified.\n",
    "\n",
    "At first, I was confused as to why a 'blueberry' is classified as a 'bird' since it is obviously a fruit and it does not fly. However, I realized that blueberries do not grow on trees. But that still does not explain why it is classified as a bird. Reminding myself that the BNC vector representation classifies words based on co-occurrence frequencies, I typed in 'blueberry bird' in a search engine and found plenty of articles about how to keep birds from eating your blueberries. This frequent co-occurrence between the word 'blueberry' and 'bird' is the most probable reason why the model misclassified 'blueberry' as a 'bird'.\n",
    "\n",
    "It is obvious that most of the animals are misclassified. Out of 4 animals (calf, hawk, salmon, and worm), only 'calf' was correctly classified. Unlike the McRae vector representation, BNC does not really classify words based on their features but based on their co-occurrence with other words instead, which results to illogically classifying such words in a category that lacks similarity featurewise but are often contextually used together in British English.\n",
    "\n",
    "The words 'tank' and 'missile' are rarely used in daily British English and is more often found in military-related text/speeches. Hence, the word 'tank' does not occur with other vehicles and 'missile' does not occur with other tools regularly. This lack of co-occurrence causes the BNC vector representation to misclassify the words 'tank' and 'missile'.\n",
    "\n",
    "For the word 'house', it is misclassified because I don't think people often use it contextually while referring to places to stay in. For example, a travel brochure might have the words 'hotel' and 'resort' when referring to accommodation, but rarely 'house'. Therefore the word 'house' rarely co-occur with words that fall under the 'accommodation' or 'lodging' category.\n",
    "\n"
   ]
  },
  {
   "cell_type": "markdown",
   "metadata": {
    "deletable": false,
    "editable": false,
    "nbgrader": {
     "checksum": "5914df925987957597727be255508fd1",
     "grade": false,
     "grade_id": "cell-af887321dad3bdb6",
     "locked": true,
     "schema_version": 1,
     "solution": false
    }
   },
   "source": [
    "## Question 7 (15%) \n",
    "Implement the Manhattan distance function. The [Manhattan distance](https://en.wikipedia.org/wiki/Taxicab_geometry) is the sum of absolute differences between points : \n",
    "$ \\sum_{i=1}^{N} |x_i-y_i| $, where $x_i$ and $y_i$ are individual dimensions of vector $\\mathbf{x}$ and $\\mathbf{y}$, each of length $N$."
   ]
  },
  {
   "cell_type": "code",
   "execution_count": 224,
   "metadata": {
    "deletable": false,
    "nbgrader": {
     "checksum": "2899eafc3c9b485296eb862a841a932f",
     "grade": true,
     "grade_id": "cell-eca73a9152b8623f",
     "locked": false,
     "points": 5,
     "schema_version": 1,
     "solution": true
    }
   },
   "outputs": [],
   "source": [
    "def Manhattan_Distance(M1,M2):\n",
    "    return sum(abs(y - x) for x,y in zip(M1, M2))"
   ]
  },
  {
   "cell_type": "code",
   "execution_count": 225,
   "metadata": {},
   "outputs": [
    {
     "name": "stdout",
     "output_type": "stream",
     "text": [
      "---------- McRae ----------\n",
      "airplane = vehicle-artifact-artifact\n",
      "bathtub = tool-artifact-artifact\n",
      "belt = vehicle-artifact-artifact\n",
      "blueberry = fruitTree-vegetable-natural\n",
      "broccoli = green-vegetable-natural\n",
      "calf = groundAnimal-animal-natural\n",
      "hawk = bird-animal-natural\n",
      "dagger = tool-artifact-artifact\n",
      "fork = tool-artifact-artifact\n",
      "guitar = tool-artifact-artifact\n",
      "house = vehicle-artifact-artifact\n",
      "missile = vehicle-artifact-artifact\n",
      "razor = tool-artifact-artifact\n",
      "salmon = tool-artifact-artifact\n",
      "tank = vehicle-artifact-artifact\n",
      "worm = vehicle-artifact-artifact\n",
      "  \n",
      "  \n",
      "---------- BNC ----------\n",
      "airplane = tool-artifact-artifact\n",
      "bathtub = tool-artifact-artifact\n",
      "belt = tool-artifact-artifact\n",
      "blueberry = tool-artifact-artifact\n",
      "broccoli = tool-artifact-artifact\n",
      "calf = tool-artifact-artifact\n",
      "hawk = tool-artifact-artifact\n",
      "dagger = tool-artifact-artifact\n",
      "fork = tool-artifact-artifact\n",
      "guitar = tool-artifact-artifact\n",
      "house = vehicle-artifact-artifact\n",
      "missile = vehicle-artifact-artifact\n",
      "razor = tool-artifact-artifact\n",
      "salmon = fruitTree-vegetable-natural\n",
      "tank = vehicle-artifact-artifact\n",
      "worm = tool-artifact-artifact\n"
     ]
    }
   ],
   "source": [
    "def exemplar_model_manh(exemplar_matrix, target_matrix, words2categorise):    \n",
    "    \n",
    "    # create a vector predictedCatIndices in which you save the predicted category index \n",
    "    \n",
    "    predictedCatIndices = [] \n",
    "    \n",
    "    # for each item\n",
    "    \n",
    "        # STEP 1:\n",
    "        # compute the Manhattan Distance between the new word’s vector representation \n",
    "        # and the vector representation of each known exemplar using the Manhattan_Distance function\n",
    "        \n",
    "    \n",
    "    for i in target_matrix:\n",
    "        simvector2 = []\n",
    "        for j in exemplar_matrix:\n",
    "            sim2 = Manhattan_Distance(i, j)\n",
    "            simvector2.append(sim2)\n",
    "            \n",
    "            \n",
    "    # STEP 2: \n",
    "    # assign the new word the category of the exemplar that yielded the highest similarity score\n",
    "        \n",
    "        minimum = simvector2[0]\n",
    "        \n",
    "        for k,similarity in enumerate(simvector2):\n",
    "            if minimum > similarity:\n",
    "                minimum = similarity\n",
    "                index = k\n",
    "    \n",
    "        predictedCatIndices.append(category_indices[index])\n",
    "\n",
    "    return predictedCatIndices\n",
    "\n",
    "print(\"---------- McRae ----------\")\n",
    "\n",
    "resultMcRae = exemplar_model_manh(matrix1_mcrae, matrix2_mcrae, words2)\n",
    "\n",
    "for index,i in enumerate(resultMcRae):\n",
    "    print(words2[index] + \" = \" + category_names[i])\n",
    "    \n",
    "print(\"  \")\n",
    "print(\"  \")\n",
    "    \n",
    "print(\"---------- BNC ----------\")\n",
    "\n",
    "resultBNC = exemplar_model_manh(matrix1_bnc, matrix2_bnc, words2)\n",
    "\n",
    "for index,i in enumerate(resultBNC):\n",
    "    print(words2[index] + \" = \" + category_names[i])\n",
    "    "
   ]
  },
  {
   "cell_type": "markdown",
   "metadata": {
    "deletable": false,
    "editable": false,
    "nbgrader": {
     "checksum": "a9a2cbee951900a9ee102b75477fadd1",
     "grade": false,
     "grade_id": "cell-d55148de4f3e6e96",
     "locked": true,
     "schema_version": 1,
     "solution": false
    }
   },
   "source": [
    "a) How does the cosine similarity differ from the Manhattan distance similarity? Give a pair of vectors that are close according to cosine distance but far according to Manhattan distance."
   ]
  },
  {
   "cell_type": "markdown",
   "metadata": {},
   "source": [
    "Similarity in general measures how alike two data objects are. The distance measured represents the features of the objects. If the distance is small, the degree of similarity will be high. Otherwise, if the distance is large, the degree of similarity will be low.\n",
    "\n",
    "Cosine similarity allows us to find the cosine of the angle between the two vectors. Cosine similarity measures the orientation of two vectors and not particularly its magnitude: two vectors with the same orientation will have a cosine similarity of 1, and two vectors that are right angled to each other (90 degrees) have a similarity of 0.\n",
    "\n",
    "Manhattan distance similarity measures the distance between two points by calculating the sum of the absolute differences of their Cartesian coordinates. It is the total sum of the difference between the x coordinates and y coordinates. Hence it is the distance between two points measured along axes at right angles. The use of Manhattan Distance is only useful when you have a large dataset and you want to 'ignore' outlier data. "
   ]
  },
  {
   "cell_type": "code",
   "execution_count": 222,
   "metadata": {
    "deletable": false,
    "nbgrader": {
     "checksum": "3e5f48be8b2e0b9b097e29d19e568f00",
     "grade": true,
     "grade_id": "cell-200bf51bf1f78801",
     "locked": false,
     "points": 5,
     "schema_version": 1,
     "solution": true
    }
   },
   "outputs": [
    {
     "name": "stdout",
     "output_type": "stream",
     "text": [
      "Cosine Similarity = 0.9746318461970762\n",
      "Manhattan Distance = 9\n"
     ]
    }
   ],
   "source": [
    "# Pair of vectors that are close according to cosine distance but \n",
    "# far according to Manhattan distance.\n",
    "\n",
    "a = [1,2,3]\n",
    "b = [4,5,6]\n",
    "\n",
    "print('Cosine Similarity =',cosine_sim(a,b))\n",
    "print('Manhattan Distance =',Manhattan_Distance(a,b))"
   ]
  },
  {
   "cell_type": "markdown",
   "metadata": {},
   "source": [
    "b) Look at the differences in classification for the McRae and BNC data when using the two different distance measures. "
   ]
  },
  {
   "cell_type": "markdown",
   "metadata": {
    "deletable": false,
    "nbgrader": {
     "checksum": "c091199ede8258360e3bd86532b01ec3",
     "grade": true,
     "grade_id": "cell-f95bc2ccd81420a3",
     "locked": false,
     "points": 3,
     "schema_version": 1,
     "solution": true
    }
   },
   "source": [
    "The Manhattan distance similarity classified almost all the words wrong in the BNC data, but correctly classifies some of the McRae data. Cosine similarity, although not perfect, is more suitable to be used to measure the distance for both vector representations."
   ]
  },
  {
   "cell_type": "markdown",
   "metadata": {
    "collapsed": true,
    "deletable": false,
    "editable": false,
    "nbgrader": {
     "checksum": "54a5ad11de0d16862d8bc98ce26c732d",
     "grade": false,
     "grade_id": "cell-44302a0dd05ffb49",
     "locked": true,
     "schema_version": 1,
     "solution": false
    }
   },
   "source": [
    "Try to explain the differences in classification."
   ]
  },
  {
   "cell_type": "markdown",
   "metadata": {
    "deletable": false,
    "nbgrader": {
     "checksum": "dba8259f997b012f28026dbdd7b452a8",
     "grade": true,
     "grade_id": "cell-99088ddfe188ed00",
     "locked": false,
     "points": 2,
     "schema_version": 1,
     "solution": true
    }
   },
   "source": [
    "Cosine similarity is used to calculate the angle between two vectors. In this case, the magnitude of the vectors does not matter as much. A reasonable example to use cosine similarity aside from Manhattan Distance is when you want to count how often a certain word appears in a document. For example, the word 'Law' occurs more often in document A than document B, Cosine Similarity is able to conclude that document B is more related to the topic 'Law' than document B, despite the fact that document A might be longer than document B, because the magnitude of the vectors does not affect the conclusion drawn. The BNC dataset is not suitable to be used with Manhattan Distance, because Manhattan Distance can be influenced by the length of the vectors."
   ]
  },
  {
   "cell_type": "markdown",
   "metadata": {
    "deletable": false,
    "editable": false,
    "nbgrader": {
     "checksum": "14f9ce90557f3d50f9dcae8c5483cae1",
     "grade": false,
     "grade_id": "cell-380c8a3b03284007",
     "locked": true,
     "schema_version": 1,
     "solution": false
    }
   },
   "source": [
    "## Question 8 (15%)\n",
    "Compare the predictions of the two semantic spaces. Which semantic space is better at inferring the categories of the new words? What limitations do you see with these representations? Can you think of ways to overcome them?"
   ]
  },
  {
   "cell_type": "markdown",
   "metadata": {
    "deletable": false,
    "nbgrader": {
     "checksum": "dee6b4c535a62d96ad6d7c9d69c7e3a4",
     "grade": true,
     "grade_id": "cell-cc5e6c8baf8ffbd2",
     "locked": false,
     "points": 15,
     "schema_version": 1,
     "solution": true
    }
   },
   "source": [
    "The semantic space that is better at inferring the categories of the new words is the ones that use the McRae vector representation. This is because the McRae dataset is based on features described by humans themselves, hence their method of classification is very close to real human intuition. Aside from that, I feel that the McRae dataset is designed to aid semantic categorisation based on features. On the other hand, the BNC dataset is more tailored to identify the frequency of the co-occurrence of a target word with a context word in the usage of British English. However, the frequency of the co-occurrence of words does not necessarily define if they fall into the same category, hence the BNC dataset is not really suitable for the purpose of semantic categorization.\n",
    "\n",
    "Theoretically, the use of the BNC semantic space makes sense because words in the same categories tend to be used together, like how a grocery list would contain words such as banana, cherry, pear, pineapple, etc. However, words in the BNC can be used in different ways contextually. In addition, the BNC is unable to further classify a word because it does not have the feature of a certain word. For example, it is unable to determine whether an animal is a ground animal or a bird because it does not know the defining features of either category. Hence I believe the use of the BNC semantic space is rather inappropriate when we are trying to cluster words into their respective semantic categories.\n",
    "\n",
    "The McRae semantic space is not perfect either. However, because it is more feature-oriented when it comes to categorising words, it is more appropriate to use in semantic categorisation. I think the reason behind most of McRae's misclassifications is because the number of words and categories used are very few. We can overcome this limitation by adding more words and categories so that we can clearly see the similarity between words in a cluster and the distinction of words in different clusters. In addition to that, we can always add more distinctive features to make sure that words that fall under the same cluster are very closely related (share more than a certain number of definitive features). Together, this will make the categories much more distinguishable and the words will be more appropriately placed in their respective semantic categories.\n"
   ]
  },
  {
   "cell_type": "markdown",
   "metadata": {},
   "source": [
    "# More info\n",
    "\n",
    "\n",
    "For more info about scipy, hierarchical clustering and matplotlib:\n",
    "- [1] https://docs.scipy.org/doc/numpy-dev/user/quickstart.html\n",
    "- [2] https://docs.scipy.org/doc/scipy-0.18.1/reference/cluster.hierarchy.html\n",
    "- [3] http://matplotlib.org/"
   ]
  },
  {
   "cell_type": "markdown",
   "metadata": {},
   "source": [
    "<a id='References'></a>\n",
    "# References\n",
    "\n",
    "[1] K. McRae, G.S. Cree, M.S. Seidenberg, C. McNorgan. 2005. Semantic Feature Production\n",
    "Norms for a Large Set of Living and Nonliving Things. Behavior Research\n",
    "Methods, 37(4):547–59.\n",
    "\n",
    "\n",
    "[2] The British National Corpus, version 3 (BNC XML Edition). 2007. Distributed by\n",
    "Oxford University Computing Services on behalf of the BNC Consortium. http:\n",
    "//www.natcorp.ox.ac.uk/."
   ]
  }
 ],
 "metadata": {
  "hide_input": false,
  "kernelspec": {
   "display_name": "Python 3",
   "language": "python",
   "name": "python3"
  },
  "language_info": {
   "codemirror_mode": {
    "name": "ipython",
    "version": 3
   },
   "file_extension": ".py",
   "mimetype": "text/x-python",
   "name": "python",
   "nbconvert_exporter": "python",
   "pygments_lexer": "ipython3",
   "version": "3.6.4"
  }
 },
 "nbformat": 4,
 "nbformat_minor": 2
}
