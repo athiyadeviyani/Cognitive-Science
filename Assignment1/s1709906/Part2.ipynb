{
 "cells": [
  {
   "cell_type": "code",
   "execution_count": 24,
   "metadata": {
    "deletable": false,
    "editable": false,
    "nbgrader": {
     "checksum": "ab4f5919f6442bbccecbf1bf9d70a081",
     "grade": false,
     "grade_id": "cell-f24c64ce5c1f4e27",
     "locked": true,
     "schema_version": 1.0,
     "solution": false
    }
   },
   "outputs": [],
   "source": [
    "#this is to plot inside the notebook\n",
    "%matplotlib inline\n",
    "\n",
    "# Let's start by importing the libraries you will be using in this assignment\n",
    "import numpy as np\n",
    "import sklearn\n",
    "import matplotlib.pyplot as plt\n",
    "import matplotlib\n",
    "\n",
    "# A seed for the random number generator so all results are reproducible\n",
    "np.random.seed(15)\n",
    "\n",
    "# Makes our plots look nicer\n",
    "matplotlib.style.use(\"seaborn-notebook\")\n",
    "\n",
    "# Let's also hide unnecessary warnings\n",
    "import warnings\n",
    "warnings.filterwarnings('ignore')"
   ]
  },
  {
   "cell_type": "markdown",
   "metadata": {
    "deletable": false,
    "editable": false,
    "hide_input": false,
    "nbgrader": {
     "checksum": "95abe20d5b04c0b39e6d4cb595b7f4e1",
     "grade": false,
     "grade_id": "cell-204ee90ce5130fb9",
     "locked": true,
     "schema_version": 1.0,
     "solution": false
    }
   },
   "source": [
    "# Assignment 1 Set 2: Learning Categories for Mammals and Birds\n",
    "\n",
    "## A Perceptron for Mammals and Birds\n",
    "This part of the assignment is designed to look at neural networks in the context of a more complicated classification problem, and to look at a data set related to human concepts and categories.\n",
    "\n",
    "\n",
    "### Classifying animals\n",
    "\n",
    "We are going to figure out whether a perceptron can learn to distinguish animals into two classes: mammals and birds. In the data folder, there should be 9 different files. \n",
    "\n",
    "Load the data in the notebook:"
   ]
  },
  {
   "cell_type": "code",
   "execution_count": 25,
   "metadata": {
    "deletable": false,
    "editable": false,
    "nbgrader": {
     "checksum": "672a43a4439be7522a23f461d68066f3",
     "grade": false,
     "grade_id": "cell-c63d1dd80f4f567a",
     "locked": true,
     "schema_version": 1.0,
     "solution": false
    }
   },
   "outputs": [],
   "source": [
    "# import the data to train the network on\n",
    "birds = np.genfromtxt(open('./data/birds.txt', \"rb\"), delimiter=\",\").T\n",
    "mammals = np.genfromtxt(open('./data/mammals.txt', \"rb\"), delimiter=\",\").T\n",
    "\n",
    "birds_tok = np.genfromtxt(open('./data/birds_tok.txt', \"rb\"),dtype='str', delimiter=\",\")\n",
    "mammals_tok = np.genfromtxt(open('./data/mammals_tok.txt', \"rb\"),dtype='str', delimiter=\",\")\n",
    "\n",
    "feats = np.genfromtxt(open('./data/feats.txt', \"rb\"),dtype='str', delimiter=\",\")"
   ]
  },
  {
   "cell_type": "markdown",
   "metadata": {
    "deletable": false,
    "editable": false,
    "nbgrader": {
     "checksum": "f5d0885052df5fd171473c7db3a2f7c7",
     "grade": false,
     "grade_id": "cell-07a6599f28f53870",
     "locked": true,
     "schema_version": 1.0,
     "solution": false
    }
   },
   "source": [
    "To train the perceptron, we will be using data from [McRae et al. (2005)(1)](#references) . You may want to have a quick read through the paper before doing the assignment.\n",
    "\n",
    "To inspect the data you can use: \n",
    "    \n",
    "`print(filename)` \n",
    "\n",
    "The **birds** and **mammals** matrices should have 20 rows and 16 columns. Each column in the matrix corresponds to a visual feature (e.g., has legs, flies) and each row to an animal (e.g., stork, pigeon). The features are 16 in total, and the animals are 20 per matrix (i.e., 20 birds and 20 mammals).\n",
    "\n",
    "Inspect the different files in the notebook, and make sure that they are in the correct dimensions (using .shape).\n",
    "\n",
    "( 2 points)"
   ]
  },
  {
   "cell_type": "code",
   "execution_count": 26,
   "metadata": {
    "deletable": false,
    "nbgrader": {
     "checksum": "34002872f0f3b82e29286a3c77b21362",
     "grade": true,
     "grade_id": "cell-406b5ea33d1e6b7d",
     "locked": false,
     "points": 1.0,
     "schema_version": 1.0,
     "solution": true
    }
   },
   "outputs": [
    {
     "name": "stdout",
     "output_type": "stream",
     "text": [
      "[[0.         0.         0.06329114 0.         0.10126582 0.11392405\n",
      "  0.27848101 0.         0.         0.         0.         0.\n",
      "  0.         0.         0.07594937 0.        ]\n",
      " [0.         0.         0.         0.         0.15107914 0.\n",
      "  0.         0.         0.         0.         0.         0.07194245\n",
      "  0.         0.         0.         0.05035971]\n",
      " [0.09615385 0.         0.10897436 0.         0.13461538 0.\n",
      "  0.05769231 0.         0.         0.         0.13461538 0.06410256\n",
      "  0.         0.         0.05769231 0.        ]\n",
      " [0.04761905 0.         0.22857143 0.         0.1047619  0.\n",
      "  0.14285714 0.         0.         0.         0.         0.17142857\n",
      "  0.         0.         0.         0.        ]\n",
      " [0.19       0.         0.1        0.         0.06       0.\n",
      "  0.11       0.         0.         0.         0.         0.\n",
      "  0.         0.         0.         0.09      ]\n",
      " [0.         0.         0.21348315 0.         0.16853933 0.\n",
      "  0.11235955 0.         0.         0.         0.         0.15730337\n",
      "  0.         0.         0.         0.05617978]\n",
      " [0.19402985 0.         0.32835821 0.         0.         0.\n",
      "  0.11940299 0.         0.         0.         0.         0.10447761\n",
      "  0.         0.         0.         0.        ]\n",
      " [0.14285714 0.         0.12857143 0.         0.11428571 0.\n",
      "  0.08571429 0.         0.         0.         0.         0.07142857\n",
      "  0.         0.         0.1        0.        ]\n",
      " [0.         0.         0.17391304 0.         0.23913043 0.\n",
      "  0.43478261 0.         0.         0.         0.         0.15217391\n",
      "  0.         0.         0.         0.        ]\n",
      " [0.15277778 0.         0.20833333 0.         0.11111111 0.\n",
      "  0.13888889 0.         0.         0.         0.         0.125\n",
      "  0.         0.         0.         0.11111111]\n",
      " [0.         0.         0.26315789 0.         0.15789474 0.\n",
      "  0.15789474 0.         0.         0.         0.         0.1754386\n",
      "  0.         0.         0.         0.        ]\n",
      " [0.         0.         0.26153846 0.         0.2        0.\n",
      "  0.32307692 0.         0.         0.         0.         0.21538462\n",
      "  0.         0.         0.         0.        ]\n",
      " [0.09375    0.         0.1171875  0.         0.0859375  0.\n",
      "  0.109375   0.         0.         0.         0.0546875  0.0703125\n",
      "  0.         0.         0.         0.1171875 ]\n",
      " [0.11235955 0.         0.13483146 0.         0.1011236  0.\n",
      "  0.14606742 0.         0.         0.         0.         0.11235955\n",
      "  0.         0.         0.         0.05617978]\n",
      " [0.15789474 0.         0.         0.         0.         0.\n",
      "  0.39473684 0.         0.         0.         0.         0.15789474\n",
      "  0.         0.         0.28947368 0.        ]\n",
      " [0.12727273 0.         0.09090909 0.         0.14545455 0.\n",
      "  0.38181818 0.         0.         0.         0.09090909 0.16363636\n",
      "  0.         0.         0.         0.        ]\n",
      " [0.28915663 0.         0.15662651 0.         0.09638554 0.\n",
      "  0.10843373 0.         0.         0.         0.         0.\n",
      "  0.         0.         0.         0.07228916]\n",
      " [0.         0.         0.24719101 0.         0.14606742 0.\n",
      "  0.17977528 0.         0.         0.         0.         0.14606742\n",
      "  0.         0.         0.         0.        ]\n",
      " [0.         0.         0.         0.         0.2278481  0.\n",
      "  0.20253165 0.         0.         0.         0.         0.16455696\n",
      "  0.         0.         0.         0.        ]\n",
      " [0.10126582 0.         0.20253165 0.         0.13924051 0.\n",
      "  0.15189873 0.         0.         0.         0.         0.12658228\n",
      "  0.         0.         0.         0.21518987]]\n",
      "[[0.         0.         0.         0.48       0.         0.\n",
      "  0.         0.         0.         0.         0.         0.\n",
      "  0.         0.28       0.         0.        ]\n",
      " [0.12244898 0.         0.         0.10204082 0.         0.09183673\n",
      "  0.         0.2244898  0.         0.         0.10204082 0.\n",
      "  0.         0.         0.         0.        ]\n",
      " [0.         0.         0.         0.14705882 0.         0.\n",
      "  0.         0.         0.         0.         0.         0.\n",
      "  0.         0.14705882 0.17647059 0.        ]\n",
      " [0.         0.         0.         0.38888889 0.         0.13888889\n",
      "  0.         0.         0.         0.         0.         0.\n",
      "  0.         0.         0.         0.        ]\n",
      " [0.         0.         0.         0.         0.         0.09836066\n",
      "  0.         0.18032787 0.         0.         0.         0.\n",
      "  0.         0.         0.32786885 0.        ]\n",
      " [0.12048193 0.         0.         0.08433735 0.         0.19277108\n",
      "  0.         0.         0.09638554 0.         0.08433735 0.\n",
      "  0.         0.         0.         0.15662651]\n",
      " [0.         0.         0.         0.20689655 0.         0.\n",
      "  0.         0.         0.10344828 0.0862069  0.         0.\n",
      "  0.12068966 0.0862069  0.10344828 0.        ]\n",
      " [0.11235955 0.         0.         0.13483146 0.         0.11235955\n",
      "  0.         0.         0.05617978 0.         0.13483146 0.\n",
      "  0.         0.08988764 0.21348315 0.        ]\n",
      " [0.13138686 0.12408759 0.         0.09489051 0.         0.\n",
      "  0.         0.         0.         0.         0.09489051 0.\n",
      "  0.05839416 0.         0.11678832 0.        ]\n",
      " [0.         0.         0.         0.         0.         0.\n",
      "  0.         0.         0.         0.         0.         0.\n",
      "  0.29411765 0.         0.5        0.        ]\n",
      " [0.         0.         0.         0.08860759 0.         0.\n",
      "  0.         0.08860759 0.         0.08860759 0.10126582 0.\n",
      "  0.06329114 0.06329114 0.17721519 0.        ]\n",
      " [0.         0.11363636 0.         0.27272727 0.         0.15909091\n",
      "  0.         0.         0.20454545 0.         0.         0.\n",
      "  0.         0.         0.         0.25      ]\n",
      " [0.         0.         0.         0.13483146 0.         0.06741573\n",
      "  0.         0.06741573 0.07865169 0.         0.13483146 0.\n",
      "  0.07865169 0.14606742 0.         0.        ]\n",
      " [0.         0.17460317 0.         0.0952381  0.         0.\n",
      "  0.         0.0952381  0.         0.         0.         0.\n",
      "  0.         0.         0.         0.        ]\n",
      " [0.         0.         0.         0.24       0.         0.14666667\n",
      "  0.         0.         0.09333333 0.         0.25333333 0.\n",
      "  0.08       0.         0.         0.        ]\n",
      " [0.         0.         0.         0.         0.         0.\n",
      "  0.         0.         0.         0.55       0.         0.\n",
      "  0.         0.         0.45       0.        ]\n",
      " [0.18181818 0.04958678 0.         0.09917355 0.         0.04958678\n",
      "  0.         0.0661157  0.0661157  0.15702479 0.09917355 0.\n",
      "  0.         0.         0.         0.        ]\n",
      " [0.         0.0862069  0.         0.25862069 0.         0.\n",
      "  0.         0.         0.         0.18965517 0.         0.\n",
      "  0.15517241 0.         0.31034483 0.        ]\n",
      " [0.12903226 0.11827957 0.         0.13978495 0.         0.\n",
      "  0.         0.         0.         0.         0.15053763 0.\n",
      "  0.         0.         0.         0.        ]\n",
      " [0.         0.         0.         0.08064516 0.         0.\n",
      "  0.         0.         0.         0.         0.         0.\n",
      "  0.07258065 0.         0.         0.        ]]\n",
      "['peacock' 'penguin' 'stork' 'pigeon' 'budgie' 'bluejay' 'woodpecker'\n",
      " 'crow' 'pheasant' 'starling' 'oriole' 'partridge' 'canary' 'parakeet'\n",
      " 'turkey' 'chicken' 'robin' 'dove' 'rooster' 'finch']\n",
      "['hyena' 'cat' 'leopard' 'coyote' 'lion' 'pony' 'elk' 'horse' 'cow'\n",
      " 'bison' 'caribou' 'calf' 'deer' 'lamb' 'donkey' 'bull' 'goat' 'ox'\n",
      " 'sheep' 'giraffe']\n",
      "['beh_-_eats' 'beh_-_eats_grass' 'beh_-_flies' 'has_4_legs' 'has_a_beak'\n",
      " 'has_a_tail' 'has_feathers' 'has_fur' 'has_hooves' 'has_horns' 'has_legs'\n",
      " 'has_wings' 'is_brown' 'is_fast' 'is_large' 'is_small']\n"
     ]
    }
   ],
   "source": [
    "\n",
    "print(birds)\n",
    "print(mammals)\n",
    "print(birds_tok)\n",
    "print(mammals_tok)\n",
    "print(feats)\n",
    "\n",
    "# raise NotImplementedError()"
   ]
  },
  {
   "cell_type": "code",
   "execution_count": 27,
   "metadata": {
    "deletable": false,
    "nbgrader": {
     "checksum": "97bd1922853e636a12321fa43a3ade8f",
     "grade": false,
     "grade_id": "cell-8c096b338c9f7ab1",
     "locked": false,
     "schema_version": 1.0,
     "solution": true
    }
   },
   "outputs": [],
   "source": [
    "# compute the shapes of the birds and mammals matrices here\n",
    "# birds_shape =  ...      \n",
    "# mammals_shape = ...  \n",
    "# animal_tokens = ...\n",
    "\n",
    "\n",
    "birds_shape = birds.shape\n",
    "mammals_shape = mammals.shape\n",
    "birds_tok_shape = birds_tok.shape\n",
    "mammals_tok_shape = mammals_tok.shape\n",
    "feats_shape = feats.shape\n",
    "\n",
    "#raise NotImplementedError()"
   ]
  },
  {
   "cell_type": "code",
   "execution_count": 28,
   "metadata": {
    "deletable": false,
    "editable": false,
    "nbgrader": {
     "checksum": "8caefb80feadc2954154ef6876b57a1b",
     "grade": true,
     "grade_id": "cell-1634927a39df7c53",
     "locked": true,
     "points": 1.0,
     "schema_version": 1.0,
     "solution": false
    }
   },
   "outputs": [],
   "source": [
    "\"\"\"Check that *mammals* and *birds* matrices are the  correct shape\"\"\"\n",
    "assert(birds_shape == mammals_shape)\n",
    "assert(mammals_shape == (20,16))"
   ]
  },
  {
   "cell_type": "markdown",
   "metadata": {
    "deletable": false,
    "editable": false,
    "nbgrader": {
     "checksum": "7fa6e6ffa1e22b3e4b0fcad010f32d2a",
     "grade": false,
     "grade_id": "cell-0b6a1c659cb10b23",
     "locked": true,
     "schema_version": 1.0,
     "solution": false
    }
   },
   "source": [
    "The features are defined in the vector `feats`, the birds are defined in vector `birds_tok`, and the mammals in vector `mammals_tok`. \n",
    "\n",
    "The visual features were elicited from humans who were presented with a word (e.g., *tiger*) and asked to list its properties. The cells in the mammals and birds matrices correspond to the number of humans who listed a specific feature for each word. The counts are normalized so that each matrix row sums to one.\n",
    "\n",
    "The goal is to train a perceptron that distinguishes between mammals and birds, by deciding whether a given input is a bird. In other words, the perceptron should output 1 in the case of a bird and 0 in the case of a mammal. You will need a matrix, input, containing all training examples, and a target vector, targets birds, whose entry i is 1 if example i is a bird, and 0 otherwise (use `np.zeros(n)` and `np.ones(n)`) for this.\n",
    "\n",
    "For this, use `np.concatenate((matrix1,matrix2))` and use `np.zeros(n)` and `np.ones(n))` for the target vector. \n",
    "\n",
    "(1 point)"
   ]
  },
  {
   "cell_type": "code",
   "execution_count": 29,
   "metadata": {
    "deletable": false,
    "nbgrader": {
     "checksum": "e1eb3f45adc23dfb578cce2eb8a2055d",
     "grade": false,
     "grade_id": "cell-53fb5c06c44e1bfe",
     "locked": false,
     "schema_version": 1.0,
     "solution": true
    }
   },
   "outputs": [],
   "source": [
    "# create the training data matrix X_train and target vector y_train\n",
    "# X_train =  ...   # concatenate birds and mammals\n",
    "# y_train =  ...   # 1 if bird, 0 if mammal \n",
    "# tokens_train = ... # concatenate animal names\n",
    "\n",
    "\n",
    "X_train = np.concatenate((birds, mammals))\n",
    "y_train = np.concatenate((np.ones(20),np.zeros(20)))\n",
    "tokens_train = np.concatenate((birds_tok,mammals_tok))\n",
    "\n",
    "#raise NotImplementedError()"
   ]
  },
  {
   "cell_type": "code",
   "execution_count": 30,
   "metadata": {
    "deletable": false,
    "editable": false,
    "nbgrader": {
     "checksum": "a367423e74525e29c38b64755a0e2692",
     "grade": true,
     "grade_id": "cell-7fb2103dc809502c",
     "locked": true,
     "points": 1.0,
     "schema_version": 1.0,
     "solution": false
    }
   },
   "outputs": [],
   "source": [
    "\"\"\"Check that the training and target matrices are in the correct shape\"\"\"\n",
    "assert(np.shape(X_train) == (40,16))\n"
   ]
  },
  {
   "cell_type": "markdown",
   "metadata": {
    "deletable": false,
    "editable": false,
    "nbgrader": {
     "checksum": "6320bc39c174fc3a994948a5371e4974",
     "grade": false,
     "grade_id": "cell-a675db5860268242",
     "locked": true,
     "schema_version": 1.0,
     "solution": false
    }
   },
   "source": [
    "Now create the perceptron, similar to how we created the MLP and linear regression in assignment 1 part 1. Create a new perceptron and fit it to the data like we did in task 1.\n",
    "\n",
    "(2 points)\n"
   ]
  },
  {
   "cell_type": "code",
   "execution_count": 31,
   "metadata": {
    "deletable": false,
    "nbgrader": {
     "checksum": "442e50dbeb401d082bafb8027da9f2fa",
     "grade": true,
     "grade_id": "cell-fa53d1a3d53a3268",
     "locked": false,
     "points": 2.0,
     "schema_version": 1.0,
     "solution": true
    }
   },
   "outputs": [],
   "source": [
    "#import the perceptron model from scikit-learn\n",
    "from sklearn.linear_model import Perceptron\n",
    "\n",
    "# Create Perceptron \n",
    "net = Perceptron()\n",
    "\n",
    "# Fit network to the data X_train and y_train\n",
    "net.fit(X_train, y_train)\n",
    "\n",
    "# Make predictions on training data \n",
    "# predictions = ...\n",
    "predictions = net.predict(X_train)\n",
    "\n",
    "# raise NotImplementedError()"
   ]
  },
  {
   "cell_type": "markdown",
   "metadata": {
    "deletable": false,
    "editable": false,
    "nbgrader": {
     "checksum": "99d5377a2770bac9486412c35318edd5",
     "grade": false,
     "grade_id": "cell-2c1199104081a337",
     "locked": true,
     "schema_version": 1.0,
     "solution": false
    }
   },
   "source": [
    "Report the categorization error of the perceptron on the training data using the mean_squared_error function imported in the cell below. \n",
    "\n",
    "(2 points)"
   ]
  },
  {
   "cell_type": "code",
   "execution_count": 32,
   "metadata": {
    "deletable": false,
    "nbgrader": {
     "checksum": "236c5f6bac4d5acbb16aad289a38287b",
     "grade": false,
     "grade_id": "cell-eaab20dc1f5e9c01",
     "locked": false,
     "schema_version": 1.0,
     "solution": true
    }
   },
   "outputs": [],
   "source": [
    "# import mean squared error from scikit-learn\n",
    "from sklearn.metrics import mean_squared_error\n",
    "# calculate MSE here\n",
    "# MSE = mean_squared_error(... , ...)\n",
    "MSE = mean_squared_error(predictions, y_train)\n",
    "\n",
    "# raise NotImplementedError()"
   ]
  },
  {
   "cell_type": "code",
   "execution_count": 33,
   "metadata": {
    "deletable": false,
    "editable": false,
    "nbgrader": {
     "checksum": "644566b52efac4a24a95e1808ab4dc30",
     "grade": true,
     "grade_id": "cell-047a926eb4383e53",
     "locked": true,
     "points": 2.0,
     "schema_version": 1.0,
     "solution": false
    }
   },
   "outputs": [],
   "source": [
    "''' check for MSE value'''\n",
    "assert MSE is not None\n"
   ]
  },
  {
   "cell_type": "markdown",
   "metadata": {
    "deletable": false,
    "editable": false,
    "nbgrader": {
     "checksum": "ad619fadc84d731e34cff6a30bc09e21",
     "grade": false,
     "grade_id": "cell-0ccbab1ebd4e412a",
     "locked": true,
     "schema_version": 1.0,
     "solution": false
    }
   },
   "source": [
    "Did the model classify all examples correctly? You can see which examples were classified incorrectly by looking at the differences between the `.predict(data)` array and the target array.\n",
    "\n",
    "(2 points)"
   ]
  },
  {
   "cell_type": "code",
   "execution_count": 34,
   "metadata": {
    "deletable": false,
    "nbgrader": {
     "checksum": "314e19df8922e7b4331281d1abd3ce2e",
     "grade": true,
     "grade_id": "cell-7fcb3a7378ec99f0",
     "locked": false,
     "points": 2.0,
     "schema_version": 1.0,
     "solution": true
    }
   },
   "outputs": [
    {
     "name": "stdout",
     "output_type": "stream",
     "text": [
      "Train = [1. 1. 1. 1. 1. 1. 1. 1. 1. 1. 1. 1. 1. 1. 1. 1. 1. 1. 1. 1. 0. 0. 0. 0.\n",
      " 0. 0. 0. 0. 0. 0. 0. 0. 0. 0. 0. 0. 0. 0. 0. 0.]\n",
      "Predict = [1. 1. 1. 1. 1. 1. 1. 1. 1. 1. 1. 1. 1. 1. 1. 1. 1. 1. 1. 1. 0. 0. 0. 0.\n",
      " 0. 0. 0. 0. 0. 0. 0. 0. 0. 0. 0. 0. 0. 0. 0. 0.]\n",
      "Mean Squared Error = 0.0\n",
      "Mean Accuracy = 1.0\n"
     ]
    }
   ],
   "source": [
    "print(\"Train =\", y_train)\n",
    "print(\"Predict =\", predictions)\n",
    "print(\"Mean Squared Error =\", MSE)\n",
    "accuracy = net.score(X_train,y_train)\n",
    "print(\"Mean Accuracy =\", accuracy) # prints the mean accuracy on the given test data and labels.\n",
    "\n",
    "#raise NotImplementedError()"
   ]
  },
  {
   "cell_type": "markdown",
   "metadata": {
    "deletable": false,
    "editable": false,
    "nbgrader": {
     "checksum": "e2f96de3de366185a37c8e3898142a85",
     "grade": false,
     "grade_id": "cell-54ab3e51a0006194",
     "locked": true,
     "schema_version": 1.0,
     "solution": false
    }
   },
   "source": [
    "Briefly discuss the classification results. \n",
    "\n",
    "(3 points)"
   ]
  },
  {
   "cell_type": "markdown",
   "metadata": {
    "deletable": false,
    "nbgrader": {
     "checksum": "db7be4f36f9dc9afefe9f371b5704d03",
     "grade": true,
     "grade_id": "cell-7c6dc16c50703421",
     "locked": false,
     "points": 3.0,
     "schema_version": 1.0,
     "solution": true
    }
   },
   "source": [
    "The Mean Squared Error is 0.0.\n",
    "\n",
    "We have trained the model from a set of data. When we tested the model with same set of data that we trained it with, it gives us an MSE of 0.0 because the model had learned from the data."
   ]
  },
  {
   "cell_type": "markdown",
   "metadata": {
    "deletable": false,
    "editable": false,
    "nbgrader": {
     "checksum": "e01611048f81b41972594083bfafb53a",
     "grade": false,
     "grade_id": "cell-c75d887b771cc50d",
     "locked": true,
     "schema_version": 1.0,
     "solution": false
    }
   },
   "source": [
    "# Comparing different models.\n",
    "\n",
    "Now we'll be using a slightly more complicated neural network, resembling the one we saw in Tutorial 3. It has more units in its hidden layer, but otherwise it's very similar. It might be helpful to know that unlike our in-class example, the weights don't always start at zero or another fixed value. Like with the perceptron, fit the new network to the training data and assess whether it's learned the correct classification by making it predict the categories of the animals it's been trained on.\n",
    "\n",
    "\n",
    "(3 points)"
   ]
  },
  {
   "cell_type": "code",
   "execution_count": 35,
   "metadata": {
    "deletable": false,
    "nbgrader": {
     "checksum": "994ef62a92cb27805f384d2f24b85d7b",
     "grade": true,
     "grade_id": "cell-c34d2ec827afbe37",
     "locked": false,
     "points": 3.0,
     "schema_version": 1.0,
     "solution": true
    }
   },
   "outputs": [
    {
     "data": {
      "text/plain": [
       "array([1., 1., 1., 1., 1., 1., 1., 1., 1., 1., 1., 1., 1., 1., 1., 1., 1.,\n",
       "       1., 1., 1., 0., 0., 0., 0., 0., 0., 0., 0., 0., 0., 0., 0., 0., 0.,\n",
       "       0., 0., 0., 0., 0., 0.])"
      ]
     },
     "execution_count": 35,
     "metadata": {},
     "output_type": "execute_result"
    }
   ],
   "source": [
    "#Let's create the network - we use the logistic sigmoid function (logistic) as activation function\n",
    "# and stochastic gradient descent ('sgd') to train the network\n",
    "from sklearn.neural_network import MLPClassifier\n",
    "\n",
    "net2 = MLPClassifier(activation='logistic', solver='sgd', tol=0,learning_rate_init=.08, max_iter=200)\n",
    "\n",
    "# fit network here\n",
    "net2.fit(X_train,y_train)\n",
    "\n",
    "# predict categories of training data here\n",
    "net2.predict(X_train)\n",
    "\n",
    "# raise NotImplementedError()"
   ]
  },
  {
   "cell_type": "markdown",
   "metadata": {
    "deletable": false,
    "editable": false,
    "nbgrader": {
     "checksum": "a12a3ddaa805eb3659497aff66f9e167",
     "grade": false,
     "grade_id": "cell-32f2085ea2a59b61",
     "locked": true,
     "schema_version": 1.0,
     "solution": false
    }
   },
   "source": [
    "Calculate the MSE of the new network and examine its performance.\n",
    "\n",
    "(2 points)"
   ]
  },
  {
   "cell_type": "code",
   "execution_count": 36,
   "metadata": {
    "deletable": false,
    "nbgrader": {
     "checksum": "b10d456f3e5d7eb522fc77d707bffb13",
     "grade": false,
     "grade_id": "cell-e0c071562f56ee6c",
     "locked": false,
     "schema_version": 1.0,
     "solution": true
    }
   },
   "outputs": [
    {
     "data": {
      "text/plain": [
       "0.0"
      ]
     },
     "execution_count": 36,
     "metadata": {},
     "output_type": "execute_result"
    }
   ],
   "source": [
    "# MSE_result = ...\n",
    "MSE_result = mean_squared_error(net2.predict(X_train),y_train)\n",
    "MSE_result\n",
    "# raise NotImplementedError()"
   ]
  },
  {
   "cell_type": "code",
   "execution_count": 37,
   "metadata": {
    "deletable": false,
    "editable": false,
    "nbgrader": {
     "checksum": "d79e9410793ccdfbb5e3d351facdce26",
     "grade": true,
     "grade_id": "cell-65e4ebb628d5e4e8",
     "locked": true,
     "points": 2.0,
     "schema_version": 1.0,
     "solution": false
    }
   },
   "outputs": [],
   "source": [
    "'''test that MSE result is not NoneType'''\n",
    "assert MSE_result is not None\n"
   ]
  },
  {
   "cell_type": "markdown",
   "metadata": {
    "deletable": false,
    "editable": false,
    "nbgrader": {
     "checksum": "03108324cdacb5f7123091b422e3d923",
     "grade": false,
     "grade_id": "cell-cb6644737176afc1",
     "locked": true,
     "schema_version": 1.0,
     "solution": false
    }
   },
   "source": [
    " Did the model learn the correct classification with the set parameters? Discuss. \n",
    " \n",
    " (2 points)"
   ]
  },
  {
   "cell_type": "markdown",
   "metadata": {
    "deletable": false,
    "nbgrader": {
     "checksum": "d221f9a9ffc10a948cc8a6665390d060",
     "grade": true,
     "grade_id": "cell-c13a9d6240de97b9",
     "locked": false,
     "points": 2.0,
     "schema_version": 1.0,
     "solution": true
    }
   },
   "source": [
    "The Mean Squared Error is 0.0.\n",
    "\n",
    "This means that the set parameters have allowed the model to learn and understand the dataset precisely. Therefore, when we trained it with the same data it learned, the model was able to learn the features of the animals and classify them correctly into their respective categories with no errors."
   ]
  },
  {
   "cell_type": "markdown",
   "metadata": {
    "deletable": false,
    "editable": false,
    "nbgrader": {
     "checksum": "e1887d7acfdde4485f856614170a944a",
     "grade": false,
     "grade_id": "cell-d0e06df4c8bf9301",
     "locked": true,
     "schema_version": 1.0,
     "solution": false
    }
   },
   "source": [
    "Now, recreate and re-fit the model ten times to the training data (`using net2.fit` and `net2.predict`), and compare the performances. To do this, store the MSE of each run in an array.\n",
    "\n",
    "(2 points)"
   ]
  },
  {
   "cell_type": "code",
   "execution_count": 38,
   "metadata": {
    "deletable": false,
    "nbgrader": {
     "checksum": "b58e098f387dc26f9c0b5d9bb5e5886a",
     "grade": false,
     "grade_id": "cell-2e01cb14f8cde174",
     "locked": false,
     "schema_version": 1.0,
     "solution": true
    }
   },
   "outputs": [
    {
     "data": {
      "text/plain": [
       "[0.0, 0.275, 0.0, 0.0, 0.0, 0.125, 0.0, 0.575, 0.0, 0.85]"
      ]
     },
     "execution_count": 38,
     "metadata": {},
     "output_type": "execute_result"
    }
   ],
   "source": [
    "# MSE_runs = []  # create an array to store each result\n",
    "\n",
    "    \n",
    "# for i in range(10):  # iterate 10 times\n",
    "    # net2 = ...              recreate model\n",
    "    #                         fit model to training data (X_train, y_train)\n",
    "    # net_2_predictions = ... predictions\n",
    "    \n",
    "    # MSE = ...               compute MSE\n",
    "    # MSE_runs.append(MSE)  # this stores the result of one run to the MSE_runs array \n",
    "    \n",
    "MSE_multiple_runs = []\n",
    "\n",
    "for i in range(10):\n",
    "    net2 = MLPClassifier(activation='logistic', solver='sgd', tol=0,learning_rate_init=.08, max_iter=200)\n",
    "    net2.fit(X_train,y_train)\n",
    "    net_2_predictions = net2.predict(X_train)\n",
    "    MSE = mean_squared_error(net_2_predictions,y_train)\n",
    "    MSE_multiple_runs.append(MSE)\n",
    "    \n",
    "MSE_multiple_runs\n",
    "#raise NotImplementedError()\n"
   ]
  },
  {
   "cell_type": "code",
   "execution_count": 39,
   "metadata": {
    "deletable": false,
    "editable": false,
    "nbgrader": {
     "checksum": "8f4a7305bf73db5017b857f8ea48ba77",
     "grade": true,
     "grade_id": "cell-5de25dbf821a2368",
     "locked": true,
     "points": 2.0,
     "schema_version": 1.0,
     "solution": false
    }
   },
   "outputs": [],
   "source": [
    "''' check length of MSE array'''\n",
    "assert len(MSE_multiple_runs)==10"
   ]
  },
  {
   "cell_type": "markdown",
   "metadata": {
    "deletable": false,
    "editable": false,
    "nbgrader": {
     "checksum": "d547ef6d44a0f7e27aa495afe12627d7",
     "grade": false,
     "grade_id": "cell-f83eb015c12163c0",
     "locked": true,
     "schema_version": 1.0,
     "solution": false
    }
   },
   "source": [
    "Make a bar plot of all 10 MSEs here using `plt.bar`. Note that `plt.bar` needs two arrays: one for the indices, and one for the values. For example, to plot `[1,2,3,5,8]`:\n",
    "\n",
    "    plt.bar(np.arange(5), [1,2,3,5,8]) \n",
    "\n",
    "Remember to add title and x- and y-labels.\n",
    "\n",
    "(3 points)"
   ]
  },
  {
   "cell_type": "code",
   "execution_count": 40,
   "metadata": {
    "deletable": false,
    "nbgrader": {
     "checksum": "79e6f837797536f041068b378779fc91",
     "grade": true,
     "grade_id": "cell-de771037eb9d217b",
     "locked": false,
     "points": 3.0,
     "schema_version": 1.0,
     "solution": true
    }
   },
   "outputs": [
    {
     "data": {
      "text/plain": [
       "<Container object of 10 artists>"
      ]
     },
     "execution_count": 40,
     "metadata": {},
     "output_type": "execute_result"
    },
    {
     "data": {
      "image/png": "[encoded data removed]",
      "text/plain": [
       "<matplotlib.figure.Figure at 0x11b4cc160>"
      ]
     },
     "metadata": {},
     "output_type": "display_data"
    }
   ],
   "source": [
    "# plot below\n",
    "f = plt.figure(121, figsize = (12,6))\n",
    "plt.axis((0,10,0,1))\n",
    "plt.title('Mean Squared Errors for Each Iteration', size=30)\n",
    "plt.ylabel('Mean Squared Error')\n",
    "plt.xlabel('Iteration Number')\n",
    "plt.bar(np.arange(10), MSE_multiple_runs)\n",
    " \n",
    "#raise NotImplementedError()"
   ]
  },
  {
   "cell_type": "markdown",
   "metadata": {
    "deletable": false,
    "editable": false,
    "nbgrader": {
     "checksum": "e077733543138e78808462571cfd2638",
     "grade": false,
     "grade_id": "cell-e9cfb36c81ac65b6",
     "locked": true,
     "schema_version": 1.0,
     "solution": false
    }
   },
   "source": [
    "Briefly discuss your results. Would you observe the same results with the perceptron?\n",
    "\n",
    "(3 points)"
   ]
  },
  {
   "cell_type": "markdown",
   "metadata": {
    "collapsed": true,
    "deletable": false,
    "nbgrader": {
     "checksum": "51ee78375f6f80706f47b167eeee6d69",
     "grade": true,
     "grade_id": "cell-e1575069040c750a",
     "locked": false,
     "points": 3.0,
     "schema_version": 1.0,
     "solution": true
    }
   },
   "source": [
    "The data we are given is linearly separable, hence the perceptron is able to classify most of the animals correctly. In the exceptions where the model misclassified the data (with the animals dolphin, platypus, and bat), these data can be considered borderline data (it lies on the line that separates 'birds' and 'mammals'), and if more features were added to the feature weights, the model would be able to learn and understand the dataset better and correctly classify the data. \n",
    "\n",
    "The Multilayer Perceptron takes more time to train compared to the Perceptron. Training the Multilayer Perceptron is set by some parameters, like the number of iterations and the learning rate, for example. In our case, we were only allowed a certain number of iterations. It may be possible that this number of iterations is not enough for the Multilayer Perceptron to learn completely. Therefore I think that the Multilayer Perceptron would yield slightly more errors. "
   ]
  },
  {
   "cell_type": "markdown",
   "metadata": {
    "deletable": false,
    "editable": false,
    "nbgrader": {
     "checksum": "88a9fd2028bff544bbb965e974d4cbf3",
     "grade": false,
     "grade_id": "cell-186be0c4f2a805e1",
     "locked": true,
     "schema_version": 1.0,
     "solution": false
    }
   },
   "source": [
    "## Generalizing  to new data\n",
    "\n",
    "Let us now see how well the perceptron can generalize to unseen animals. Generalization happens when a model re-uses what it has learned in the training data to examples it did not see during training. \n",
    "\n",
    "You will have to prepare the test data in the same way as the training data: you will again need a matrix with all test examples (the input to the perceptron), and a target vector. Make sure that your use of zeros and ones matches mammals and birds in the same way that it did during the training phase!\n",
    "\n",
    "( 2 points)"
   ]
  },
  {
   "cell_type": "code",
   "execution_count": 41,
   "metadata": {
    "deletable": false,
    "editable": false,
    "nbgrader": {
     "checksum": "eb7fafa1d7e0aae52e4fc984692e5629",
     "grade": false,
     "grade_id": "cell-ce867a3f515df4ed",
     "locked": true,
     "schema_version": 1.0,
     "solution": false
    }
   },
   "outputs": [],
   "source": [
    "#import test data here\n",
    "mammals_test = np.genfromtxt(open('./data/mammals_test.txt', \"rb\"), delimiter=\",\").T\n",
    "mammals_tok_test = np.genfromtxt(open('./data/mammals_tok_test.txt', \"rb\"),dtype='str', delimiter=\",\")\n",
    "\n",
    "birds_test = np.genfromtxt(open('./data/birds_test.txt', \"rb\"), delimiter=\",\").T\n",
    "birds_tok_test = np.genfromtxt(open('./data/birds_tok_test.txt', \"rb\"),dtype='str', delimiter=\",\")"
   ]
  },
  {
   "cell_type": "code",
   "execution_count": 42,
   "metadata": {
    "deletable": false,
    "nbgrader": {
     "checksum": "9adb4fbff1ed7d74a626616a34f2402e",
     "grade": false,
     "grade_id": "cell-98d01248ac1a7b8c",
     "locked": false,
     "schema_version": 1.0,
     "solution": true
    }
   },
   "outputs": [],
   "source": [
    "# create the training data matrix X_train, target vector y_train and a vector with the names of the animals\n",
    "# X_test =  ...  \n",
    "# y_test =  ...   \n",
    "# test_tokens = ...\n",
    "\n",
    "\n",
    "X_test = np.concatenate((birds_test, mammals_test))\n",
    "y_test = np.concatenate((np.ones(15),np.zeros(15)))\n",
    "test_tokens = np.concatenate((birds_tok_test, mammals_tok_test))\n",
    "\n",
    "#raise NotImplementedError()"
   ]
  },
  {
   "cell_type": "code",
   "execution_count": 43,
   "metadata": {
    "deletable": false,
    "editable": false,
    "nbgrader": {
     "checksum": "30a3ef1ee27baedf0b2826847b3f2bfe",
     "grade": true,
     "grade_id": "cell-74f6fd7cf316ac4a",
     "locked": true,
     "points": 2.0,
     "schema_version": 1.0,
     "solution": false
    }
   },
   "outputs": [],
   "source": [
    "'''check shapes for test data '''\n",
    "assert(X_test.shape == (30,16))\n"
   ]
  },
  {
   "cell_type": "markdown",
   "metadata": {
    "deletable": false,
    "editable": false,
    "nbgrader": {
     "checksum": "70ff23d3d9f9601d5706c30f868a155b",
     "grade": false,
     "grade_id": "cell-8e2793f357065e39",
     "locked": true,
     "schema_version": 1.0,
     "solution": false
    }
   },
   "source": [
    "Now test the perceptron without re-training it on the data (i.e. using `net1.predict(X_test)`). This means that the network is now predicting the category of mammals and birds that it has not seen.\n",
    "\n",
    "(2 points)"
   ]
  },
  {
   "cell_type": "code",
   "execution_count": 46,
   "metadata": {
    "deletable": false,
    "nbgrader": {
     "checksum": "33598409bcedbda613227879356f5576",
     "grade": false,
     "grade_id": "cell-e4d608f9975821b5",
     "locked": false,
     "schema_version": 1.0,
     "solution": true
    }
   },
   "outputs": [
    {
     "data": {
      "text/plain": [
       "0.1"
      ]
     },
     "execution_count": 46,
     "metadata": {},
     "output_type": "execute_result"
    }
   ],
   "source": [
    "# net1_test_predictions = ...\n",
    "# test_MSE = ...\n",
    "\n",
    "net1 = Perceptron()\n",
    "net1.fit(X_train,y_train)\n",
    "net1_test_predictions = net1.predict(X_test)\n",
    "test_MSE = mean_squared_error(net1_test_predictions,y_test)\n",
    "\n",
    "test_MSE\n",
    "\n",
    "# raise NotImplementedError()"
   ]
  },
  {
   "cell_type": "code",
   "execution_count": 47,
   "metadata": {
    "deletable": false,
    "editable": false,
    "nbgrader": {
     "checksum": "ecadc9dfe032b87ff59226cdc816d250",
     "grade": true,
     "grade_id": "cell-5ed839c5cd39532d",
     "locked": true,
     "points": 2.0,
     "schema_version": 1.0,
     "solution": false
    }
   },
   "outputs": [],
   "source": [
    "'''check test set predictions'''\n",
    "assert(len(net1_test_predictions) == len(X_test))\n"
   ]
  },
  {
   "cell_type": "markdown",
   "metadata": {
    "deletable": false,
    "editable": false,
    "nbgrader": {
     "checksum": "153fae75d3bd92037fc853e5fdd9279b",
     "grade": false,
     "grade_id": "cell-abb3aab3219f00f9",
     "locked": true,
     "schema_version": 1.0,
     "solution": false
    }
   },
   "source": [
    "Discuss the results briefly (one or two sentences).\n",
    " \n",
    "(2 points)"
   ]
  },
  {
   "cell_type": "markdown",
   "metadata": {
    "deletable": false,
    "nbgrader": {
     "checksum": "87f5077d38c95cfc716229ee291ff1d8",
     "grade": true,
     "grade_id": "cell-378e2ca9e4639e2e",
     "locked": false,
     "points": 2.0,
     "schema_version": 1.0,
     "solution": true
    }
   },
   "source": [
    "The Mean Squared Error is equal to 0.1. \n",
    "\n",
    "The Mean Squared Error is not equal to 0 because we fitted the model without retraining it. In addition, it is more prone to error because the model is dealing with data it has not trained with."
   ]
  },
  {
   "cell_type": "markdown",
   "metadata": {
    "deletable": false,
    "editable": false,
    "nbgrader": {
     "checksum": "dae089c24728adff8897a014f257cf01",
     "grade": false,
     "grade_id": "cell-22c830d2a6fb6836",
     "locked": true,
     "schema_version": 1.0,
     "solution": false
    }
   },
   "source": [
    "## Inspecting model predictions.\n",
    "Which animals did the neural network not classify correctly? Complete the function below so that it prints the misclassified animals and the weight attributed to each feature.\n",
    "\n",
    "( 2 points)"
   ]
  },
  {
   "cell_type": "code",
   "execution_count": 48,
   "metadata": {
    "deletable": false,
    "nbgrader": {
     "checksum": "f0513edf724ab269e31ed1079bf22a35",
     "grade": true,
     "grade_id": "cell-24f8a69c852d59c1",
     "locked": false,
     "points": 2.0,
     "schema_version": 1.0,
     "solution": true
    }
   },
   "outputs": [
    {
     "name": "stdout",
     "output_type": "stream",
     "text": [
      "['beh_-_eats' 'beh_-_eats_grass' 'beh_-_flies' 'has_4_legs' 'has_a_beak'\n",
      " 'has_a_tail' 'has_feathers' 'has_fur' 'has_hooves' 'has_horns' 'has_legs'\n",
      " 'has_wings' 'is_brown' 'is_fast' 'is_large' 'is_small']\n",
      "dolphin\n",
      "[0.10344828 0.         0.         0.         0.         0.\n",
      " 0.         0.         0.         0.         0.         0.\n",
      " 0.         0.         0.         0.        ]\n",
      "platypus\n",
      "[0.         0.         0.         0.         0.16666667 0.\n",
      " 0.         0.         0.         0.         0.         0.\n",
      " 0.         0.         0.         0.        ]\n",
      "bat\n",
      "[0.         0.         0.22352941 0.         0.         0.\n",
      " 0.         0.12941176 0.         0.         0.         0.30588235\n",
      " 0.         0.         0.         0.07058824]\n"
     ]
    }
   ],
   "source": [
    "print(feats)\n",
    "for index, true_label in enumerate(y_test):\n",
    "    if net1_test_predictions[index]!=true_label: # if prediction does not match the true category\n",
    "        # here, print the name of the animal corresponding to the index\n",
    "        print(test_tokens[index])\n",
    "        # below, print the feature weights of the animal corresponding to the index\n",
    "        print(X_test[index])\n",
    "    # raise NotImplementedError()"
   ]
  },
  {
   "cell_type": "markdown",
   "metadata": {
    "deletable": false,
    "editable": false,
    "nbgrader": {
     "checksum": "0ad6d7cef953b1db946d56aa9ac8d03b",
     "grade": false,
     "grade_id": "cell-6cf124653af562ee",
     "locked": true,
     "schema_version": 1.0,
     "solution": false
    }
   },
   "source": [
    "Can you find an explanation for that? Looking at the weights that the network learned in conjunction with the McRae features (corresponding to the `feats` file) the weights operate on might help you answer the question. \n",
    "\n",
    "First print out the weights of the perceptron by using the `net1.coef_` function.\n",
    "\n",
    "(1 point)"
   ]
  },
  {
   "cell_type": "code",
   "execution_count": 49,
   "metadata": {
    "deletable": false,
    "nbgrader": {
     "checksum": "b694d013c0998d8055526c6e737a8206",
     "grade": true,
     "grade_id": "cell-573032e5fce7bdb9",
     "locked": false,
     "points": 1.0,
     "schema_version": 1.0,
     "solution": true
    }
   },
   "outputs": [
    {
     "data": {
      "text/plain": [
       "array([[ 0.02886248, -0.11827957,  0.24719101, -0.27461641,  0.29714655,\n",
       "        -0.06741573,  0.57451212, -0.06741573, -0.07865169, -0.55      ,\n",
       "        -0.2853691 ,  0.3759046 , -0.07865169, -0.14606742, -0.16052632,\n",
       "         0.05035971]])"
      ]
     },
     "execution_count": 49,
     "metadata": {},
     "output_type": "execute_result"
    }
   ],
   "source": [
    "# code here\n",
    "net1.coef_\n",
    "\n",
    "#raise NotImplementedError()"
   ]
  },
  {
   "cell_type": "markdown",
   "metadata": {
    "deletable": false,
    "editable": false,
    "nbgrader": {
     "checksum": "c3493dd31125766158c6f66fae29a0ad",
     "grade": false,
     "grade_id": "cell-67b82b8c4374551a",
     "locked": true,
     "schema_version": 1.0,
     "solution": false
    }
   },
   "source": [
    "Discuss the animals that the model failed to classify correctly using the learned weights of the model and the features of the misclassified animals.\n",
    "\n",
    "(5 points)"
   ]
  },
  {
   "cell_type": "markdown",
   "metadata": {
    "deletable": false,
    "nbgrader": {
     "checksum": "dfcbc118fba7dc6753a6208bba2165e7",
     "grade": true,
     "grade_id": "cell-3792a6eeb2e17334",
     "locked": false,
     "points": 5.0,
     "schema_version": 1.0,
     "solution": true
    }
   },
   "source": [
    "The weights learned by the perceptron displayed by net1.coef_ refers to a 'bird' when it is a positive value, and refers to a 'mammal' when it is a negative value. Comparing the feature weights of the animals the model failed to classify, we can see that each animal contains a feature that is either not distinctive to either category or share features from both categories.\n",
    "\n",
    "Dolphin\n",
    "\n",
    "The animal 'dolphin' only has one defining feature which is 'eats'. The weight of 'eats' in the perceptron is 0.02886248, which is a relatively small positive number. This means that the feature 'eats' is not a clearly distinguishable feature (which means that 'eats' is a feature that is most probably commonly shared by most of the animals, both birds and mammals). However, since our Perceptron is linear, it is not quite flexible. Hence, despite the fact that 0.02886428 is a really small positive number, it is still a positive number, therefore the feature 'eats' is classified into a 'bird' feature. Since 'eats' is the only defining feature the animal 'dolphin' has, the Perceptron immediately classifies a 'dolphin' as a 'bird'.\n",
    "\n",
    "Platypus\n",
    "\n",
    "The animal 'Platypus' also only has one defining feature which is 'has a beak'. The weight of 'has_a_beak' is a positive number, and also one of the highest positive weight. This means that the property 'has_a_beak' is distinctive for the animal 'bird' (this feature is not commonly shared amongst mammals and is commonly shared amongst birds). Since this is the only defining feature for 'Platypus' and the Perceptron being linear, it immediately classifies 'Platypus' as a 'bird'.\n",
    "\n",
    "Bat\n",
    "\n",
    "The animal 'bat' is associated with both features from 'bird' (flies, has_wings) and 'mammal' (has_fur, is_small). Hence the perceptron is unable to classify to which group does the animal 'bat' fall in.\n",
    "\n"
   ]
  },
  {
   "cell_type": "markdown",
   "metadata": {
    "deletable": false,
    "editable": false,
    "nbgrader": {
     "checksum": "5bda6d25cea147b27f6a23c05a06fd05",
     "grade": false,
     "grade_id": "cell-825e4e51dabb1cd2",
     "locked": true,
     "schema_version": 1.0,
     "solution": false
    }
   },
   "source": [
    "## Comparing models on the test set.\n",
    "Now, calculate the MLP (`net2`) error on the test set. How does it compare to the single layer perceptron performance?\n",
    "\n",
    "Frist print out the MSEs for `net2` below:\n",
    "\n",
    "(3 points)"
   ]
  },
  {
   "cell_type": "code",
   "execution_count": 50,
   "metadata": {
    "deletable": false,
    "nbgrader": {
     "checksum": "a8446354204edf813fb8b615e2087548",
     "grade": true,
     "grade_id": "cell-202e874cf28a4087",
     "locked": false,
     "points": 3.0,
     "schema_version": 1.0,
     "solution": true
    }
   },
   "outputs": [
    {
     "name": "stdout",
     "output_type": "stream",
     "text": [
      "0.06666666666666667\n",
      "platypus\n",
      "[0.         0.         0.         0.         0.16666667 0.\n",
      " 0.         0.         0.         0.         0.         0.\n",
      " 0.         0.         0.         0.        ]\n",
      "bat\n",
      "[0.         0.         0.22352941 0.         0.         0.\n",
      " 0.         0.12941176 0.         0.         0.         0.30588235\n",
      " 0.         0.         0.         0.07058824]\n"
     ]
    }
   ],
   "source": [
    "# net2_test_predictions = ...\n",
    "# Calculate MSE \n",
    "\n",
    "net2 = MLPClassifier(activation='logistic', solver='sgd', tol=0,learning_rate_init=.08, max_iter=200)\n",
    "net2.fit(X_train,y_train)\n",
    "net2_test_predictions = net2.predict(X_test)\n",
    "print (mean_squared_error(net2_test_predictions, y_test))\n",
    "\n",
    "    \n",
    "for index, true_label in enumerate(y_test):\n",
    "    if net2_test_predictions[index]!=true_label: # if prediction does not match the true category\n",
    "        # here, print the name of the animal corresponding to the index\n",
    "        print(test_tokens[index])\n",
    "        # below, print the feature weights of the animal corresponding to the index\n",
    "        print(X_test[index])\n",
    "        # raise NotImplementedError()\n",
    "\n"
   ]
  },
  {
   "cell_type": "markdown",
   "metadata": {
    "deletable": false,
    "editable": false,
    "nbgrader": {
     "checksum": "bb45b1a46dbe4cf3c4e446fd340b8db5",
     "grade": false,
     "grade_id": "cell-daa494ed099d688d",
     "locked": true,
     "schema_version": 1.0,
     "solution": false
    }
   },
   "source": [
    "Now discuss the MSEs, the number of erroneous classifications, and the differences/similarities between animals the network was not able to classify."
   ]
  },
  {
   "cell_type": "markdown",
   "metadata": {
    "deletable": false,
    "nbgrader": {
     "checksum": "e05acb1ef30f3033de1e3b08a0e8501a",
     "grade": true,
     "grade_id": "cell-c33635af14208403",
     "locked": false,
     "points": 3.0,
     "schema_version": 1.0,
     "solution": true
    }
   },
   "source": [
    "The Mean Squared Error for net2 is 0.0667 which is lower than the MSE for net1 (0.1). This means that the predictions made by net2 are closer to the test data, hence implying that net2 is better at predicting data.\n",
    "The Perceptron is linear whilst the Multilayer perceptron is exponential, hence the weights learned by the Multilayer Perceptron is not the same as the perceptron. The MLP learns different weights since it has a different architecture.\n",
    "\n",
    "The Multilayer Perceptron correctly classifies 'Dolphin' whilst the single layer perceptron doesn't because the single layer perceptron isn't flexible enough to accommodate outlier data. So for the Perceptron to draw the best classification for the data, it has to learn that 'eats' is a bird feature.\n",
    "\n",
    "Both models weren't able to distinguish 'Platypus' and 'Bat' correctly because their feature weights contain a specific weight that is a distinguishable feature of a bird (like how a platypus has a beak and how a bat is able to fly)."
   ]
  },
  {
   "cell_type": "markdown",
   "metadata": {
    "deletable": false,
    "editable": false,
    "nbgrader": {
     "checksum": "71214474ce4bd2320c93bc0fcd73bf83",
     "grade": false,
     "grade_id": "cell-e8ef55efd1e9bdab",
     "locked": true,
     "schema_version": 1.0,
     "solution": false
    }
   },
   "source": [
    "## Reliability \n",
    "\n",
    "Do ten iterations, where in each iteration you create the network (net2) again, train it and examine its performance on the training and test data. Remember to NOT fit the network on the test data. With the test set, the model is meant to predict the category of animals it has never seen before (i.e. animals it has not been trained on).\n",
    "\n",
    "On the same graph, plot the performance of each iteration on the test set (using `plt.bar`). Don’t forget to add labels to both axes.\n",
    "\n",
    "You can plot the test error on top of the train error in your bar plots by passing the parameter `bottom` in the `plt.bar()` function. Add separate labels for training and test error. \n",
    "\n",
    "(3 points)"
   ]
  },
  {
   "cell_type": "code",
   "execution_count": 51,
   "metadata": {
    "deletable": false,
    "nbgrader": {
     "checksum": "ebec72db2a7235e55682ec63215c0ea7",
     "grade": true,
     "grade_id": "cell-dbeae86f309398d9",
     "locked": false,
     "points": 3.0,
     "schema_version": 1.0,
     "solution": true
    }
   },
   "outputs": [
    {
     "data": {
      "text/plain": [
       "Text(0,0.5,'Mean Squared Error')"
      ]
     },
     "execution_count": 51,
     "metadata": {},
     "output_type": "execute_result"
    },
    {
     "data": {
      "image/png": "[encoded data removed]",
      "text/plain": [
       "<matplotlib.figure.Figure at 0x11b4d0b38>"
      ]
     },
     "metadata": {},
     "output_type": "display_data"
    }
   ],
   "source": [
    "# code here\n",
    "\n",
    "# MSE_train = []\n",
    "# MSE_test = []\n",
    "# for i in range(10):\n",
    "#   ...\n",
    "#   ...\n",
    "  \n",
    "\n",
    "\n",
    "MSE_train = []\n",
    "MSE_test = []\n",
    "for i in range(10):\n",
    "    net2 = MLPClassifier(activation='logistic', solver='sgd', tol=0,learning_rate_init=.08, max_iter=200)\n",
    "    net2.fit(X_train,y_train)\n",
    "    net_2_train_predictions = net2.predict(X_train)\n",
    "    net_2_test_predictions = net2.predict(X_test)\n",
    "    trainMSE = mean_squared_error(net_2_train_predictions, y_train)\n",
    "    testMSE = mean_squared_error(net_2_test_predictions, y_test)\n",
    "    \n",
    "    MSE_train.append(trainMSE)\n",
    "    MSE_test.append(testMSE)\n",
    "\n",
    "MSE_train\n",
    "MSE_test\n",
    "\n",
    "plt.bar(np.arange(10), MSE_test, bottom=MSE_train, label='Test data')\n",
    "plt.bar(np.arange(10), MSE_train, label='Training data', color = \"orange\")\n",
    "plt.legend(bbox_to_anchor=(1.05,1), loc=2, borderaxespad=0)\n",
    "\n",
    "plt.title('Reliability of MLP', size = 30)\n",
    "plt.xlabel('Iteration Number')\n",
    "plt.ylabel('Mean Squared Error')\n",
    "#raise NotImplementedError()"
   ]
  },
  {
   "cell_type": "markdown",
   "metadata": {
    "deletable": false,
    "editable": false,
    "nbgrader": {
     "checksum": "8d4e4bf2ff0ad0b7a8a8bcc32183c058",
     "grade": false,
     "grade_id": "cell-c5b909ce433ea488",
     "locked": true,
     "schema_version": 1.0,
     "solution": false
    }
   },
   "source": [
    "Discuss your observations briefly.\n",
    "\n",
    "(2 points)"
   ]
  },
  {
   "cell_type": "markdown",
   "metadata": {
    "deletable": false,
    "nbgrader": {
     "checksum": "86676e9376fe8b032e82f7be8d7f595b",
     "grade": true,
     "grade_id": "cell-331b9ee678ec5600",
     "locked": false,
     "points": 2.0,
     "schema_version": 1.0,
     "solution": true
    }
   },
   "source": [
    "I have observed that there is a relationship between the errors in the training predictions and the corresponding test predictions. When you do not have an error in the training predictions, the test predictions is with a constant low Mean Squared Error. However, if you have errors in the predictions of the training data, you should expect to yield a rather high Mean Squared Error for the test predictions.\n",
    "\n",
    "The iterations with the low errors are the ones that misclassified bat and platypus, whilst the ones that yield a high error misclassified more than those two animals."
   ]
  },
  {
   "cell_type": "markdown",
   "metadata": {
    "deletable": false,
    "editable": false,
    "nbgrader": {
     "checksum": "b1ce7404e54d6025f06a9afe00835d91",
     "grade": false,
     "grade_id": "cell-7eed3e3bb809b3a8",
     "locked": true,
     "schema_version": 1.0,
     "solution": false
    }
   },
   "source": [
    "## Playing with parameters \n",
    "Experiment with the following parameters:\n",
    "- Learning rate: change the learning rate settings  ($\\texttt{learning_rate_init: e.g. `1, 0.1,0.01,0.001`) \n",
    "- Number of hidden layers and units vary the number of units in the hidden layer, and try to add a second hidden layer. (e.g. `(25,), (80,),(100,), (100,80), (100,100)`)\n",
    "- Iterations: change the max number of iterations. E.g. `20,100,500,1000, 5000`\n",
    "\n",
    "Follow the same procedure as before, running each simulation 10 times (for each new parameter).\n",
    "\n",
    "**Notes**:\n",
    "\n",
    "\n",
    "- To compare different parametrizations, you should plot the mean and standard error for the 10 runs of each model with a given parametrization. You can use np.mean np.std to compute these. You plot this through the `yerr` parameter in the `plt.bar()` function. You should pass two arrays to the plt.bar function: the means and the std  of different parametrizations.\n",
    "\n",
    "- Make three plots. In each, vary either the learning rate, the number of hidden layers and the iterations.\n",
    "\n",
    "(10 points) "
   ]
  },
  {
   "cell_type": "code",
   "execution_count": 52,
   "metadata": {
    "deletable": false,
    "nbgrader": {
     "checksum": "0052d879d5ad7d409a8b470a9d108b9e",
     "grade": true,
     "grade_id": "cell-6e9fd56756fe0075",
     "locked": false,
     "points": 4.0,
     "schema_version": 1.0,
     "solution": true
    }
   },
   "outputs": [
    {
     "data": {
      "text/plain": [
       "<matplotlib.legend.Legend at 0x10f044a90>"
      ]
     },
     "execution_count": 52,
     "metadata": {},
     "output_type": "execute_result"
    },
    {
     "data": {
      "image/png": "[encoded data removed]",
      "text/plain": [
       "<matplotlib.figure.Figure at 0x1a1c176198>"
      ]
     },
     "metadata": {},
     "output_type": "display_data"
    }
   ],
   "source": [
    "#code here for plot 1 (learning rate)  -- 4 pts\n",
    "\n",
    "MSE_mean = []\n",
    "MSE_se = []\n",
    "MSE_mean_train = []\n",
    "MSE_se_train = []\n",
    "for lr in [1,0.1,0.01,0.001,0.0001]:\n",
    "    model_results = [] # an empty array is re-created for every learning rate value\n",
    "    model_results_train = [] \n",
    "    for i in range(10):\n",
    "        # create network with given learning rate\n",
    "        network = MLPClassifier(activation='logistic', solver='sgd', tol=0,learning_rate_init=lr, max_iter=200)\n",
    "        # fit network to training data\n",
    "        network.fit(X_train,y_train)\n",
    "        # predict on test data \n",
    "        network_prediction = network.predict(X_test)\n",
    "        # predict on train data\n",
    "        network_prediction_train = network.predict(X_train)\n",
    "        # compute MSE of predictions on test data\n",
    "        network_MSE = mean_squared_error(network_prediction, y_test)\n",
    "        # compute MSE of predicitions on train data\n",
    "        network_MSE_train = mean_squared_error(network_prediction_train, y_train)\n",
    "        # append to model_results\n",
    "        model_results.append(network_MSE)\n",
    "        model_results_train.append(network_MSE_train)\n",
    "    # at the end of the for loop \n",
    "    # append the mean to MSE_mean array\n",
    "    MSE_mean.append(np.mean(model_results))\n",
    "    MSE_mean_train.append(np.mean(model_results_train))\n",
    "    # append the std to MSE_se array\n",
    "    MSE_se.append(np.std(model_results)/2)\n",
    "    MSE_se_train.append(np.std(model_results_train)/2)\n",
    "    \n",
    "# Make plot here\n",
    "\n",
    "f = plt.figure()\n",
    "plt.bar(np.arange(5)+0.2, MSE_mean, yerr = np.array(MSE_se), width=1/3, label='Test data')\n",
    "plt.bar(np.arange(5)-0.2, MSE_mean_train, yerr = np.array(MSE_se_train), width=1/3, color = \"orange\", label='Training data')\n",
    "    \n",
    "# to re-name the tick labels for each bar, use:    \n",
    "plt.xticks(np.arange(5), ['1', '0.1','.01', '.001', '.0001']);\n",
    "\n",
    "plt.title('Learning Rate Variation', size=30)\n",
    "plt.xlabel('Learning Rate')\n",
    "plt.ylabel('Standard Error')\n",
    "\n",
    "plt.legend(bbox_to_anchor=(1.05,1), loc=2, borderaxespad=0)\n",
    "\n",
    "\n",
    "# raise NotImplementedError()"
   ]
  },
  {
   "cell_type": "code",
   "execution_count": 53,
   "metadata": {
    "deletable": false,
    "nbgrader": {
     "checksum": "3cad4e2718d258fee72b42fcf0b3e6ad",
     "grade": true,
     "grade_id": "cell-1bab9c9c613cfa07",
     "locked": false,
     "points": 3.0,
     "schema_version": 1.0,
     "solution": true
    }
   },
   "outputs": [
    {
     "data": {
      "text/plain": [
       "<matplotlib.legend.Legend at 0x1a1c885198>"
      ]
     },
     "execution_count": 53,
     "metadata": {},
     "output_type": "execute_result"
    },
    {
     "data": {
      "image/png": "[encoded data removed]",
      "text/plain": [
       "<matplotlib.figure.Figure at 0x1a1c78d198>"
      ]
     },
     "metadata": {},
     "output_type": "display_data"
    }
   ],
   "source": [
    "#code here for plot 2 (hidden layers)  -- 3 pts\n",
    "MSE_mean = []\n",
    "MSE_se = []\n",
    "MSE_mean_train = []\n",
    "MSE_se_train = []\n",
    "\n",
    "for hl in [(25,), (80,),(100,), (100,80), (100,100)]:\n",
    "    model_results = []\n",
    "    model_results_train = []\n",
    "    for i in range(10):\n",
    "     # create network with given hidden layers\n",
    "        net2 = MLPClassifier(activation='logistic', solver='sgd',hidden_layer_sizes= hl, \n",
    "                             learning_rate_init=0.1, max_iter=250)\n",
    "        net2.fit(X_train,y_train)\n",
    "        net2_prediction = net2.predict(X_test)\n",
    "        net2_prediction_train = net2.predict(X_train)\n",
    "        net2_MSE = mean_squared_error(net2_prediction, y_test)\n",
    "        net2_MSE_train = mean_squared_error(net2_prediction_train, y_train)\n",
    "        model_results.append(net2_MSE)\n",
    "        model_results_train.append(net2_MSE_train)\n",
    "    MSE_mean.append(np.mean(model_results))\n",
    "    MSE_mean_train.append(np.mean(model_results_train))\n",
    "    MSE_se.append(np.std(model_results)/2)\n",
    "    MSE_se_train.append(np.std(model_results_train)/2)\n",
    "\n",
    "f = plt.figure()\n",
    "plt.bar(np.arange(5)+0.2, MSE_mean, yerr = np.array(MSE_se), width = 1/3, label='Test data')\n",
    "plt.bar(np.arange(5)-0.2, MSE_mean_train, yerr = np.array(MSE_se_train), color=\"orange\", width = 1/3, label='Training data')\n",
    "    \n",
    "# to re-name the tick labels for each bar, use:    \n",
    "plt.xticks(np.arange(5), ['25,', '80,','100,', '100,80', '100,100']);\n",
    "\n",
    "plt.title('Hidden Layer Variation', size=30)\n",
    "plt.xlabel('Number of Hidden Layers')\n",
    "plt.ylabel('Standard Error')\n",
    "\n",
    "plt.legend(bbox_to_anchor=(1.05,1), loc=2, borderaxespad=0)\n",
    "\n",
    "# raise NotImplementedError()"
   ]
  },
  {
   "cell_type": "code",
   "execution_count": 56,
   "metadata": {
    "deletable": false,
    "nbgrader": {
     "checksum": "1a043b7b6705fa969f8aaca24fb81e4e",
     "grade": true,
     "grade_id": "cell-cbdba4471424bcd1",
     "locked": false,
     "points": 3.0,
     "schema_version": 1.0,
     "solution": true
    }
   },
   "outputs": [
    {
     "data": {
      "text/plain": [
       "<matplotlib.legend.Legend at 0x1a1c9c4390>"
      ]
     },
     "execution_count": 56,
     "metadata": {},
     "output_type": "execute_result"
    },
    {
     "data": {
      "image/png": "[encoded data removed]",
      "text/plain": [
       "<matplotlib.figure.Figure at 0x1a1caf52e8>"
      ]
     },
     "metadata": {},
     "output_type": "display_data"
    }
   ],
   "source": [
    "#code here for plot 3 (max-iter)  -- 3 pts\n",
    "\n",
    "MSE_mean = []\n",
    "MSE_se = []\n",
    "MSE_mean_train = []\n",
    "MSE_se_train = []\n",
    "\n",
    "\n",
    "for it in [20,100,500,1000, 5000]: \n",
    "    model_results = []\n",
    "    model_results_train = []\n",
    "    for i in range(10):      \n",
    "         # create network with given hidden layers\n",
    "        net3 = MLPClassifier(activation='logistic', solver='sgd', tol=0, learning_rate_init=0.08, max_iter=it)\n",
    "        net3.fit(X_train,y_train)\n",
    "        net3_prediction = net3.predict(X_test)\n",
    "        net3_prediction_train = net3.predict(X_train)\n",
    "        net3_MSE = mean_squared_error(net3_prediction, y_test)\n",
    "        net3_MSE_train = mean_squared_error(net3_prediction_train, y_train)\n",
    "        model_results.append(net3_MSE)\n",
    "        model_results_train.append(net3_MSE_train)\n",
    "    MSE_mean.append(np.mean(model_results))\n",
    "    MSE_mean_train.append(np.mean(model_results_train))\n",
    "    MSE_se.append(np.std(model_results)/2)\n",
    "    MSE_se_train.append(np.std(model_results_train)/2)\n",
    "\n",
    "f = plt.figure()\n",
    "plt.bar(np.arange(5)+0.2, MSE_mean, yerr = np.array(MSE_se), width = 1/3, label='Test data')\n",
    "plt.bar(np.arange(5)-0.2, MSE_mean_train, yerr = np.array(MSE_se_train), color='orange', width = 1/3, label='Training data')\n",
    "\n",
    "# to re-name the tick labels for each bar, use:    \n",
    "plt.xticks(np.arange(5), ['20', '100','500', '1000', '5000']);\n",
    "\n",
    "plt.title('Iteration Variation', size=30)\n",
    "plt.xlabel('Number of Iterations')\n",
    "plt.ylabel('Standard Error')\n",
    "\n",
    "plt.legend(bbox_to_anchor=(1.05,1), loc=2, borderaxespad=0)\n",
    "#raise NotImplementedError()"
   ]
  },
  {
   "cell_type": "markdown",
   "metadata": {
    "collapsed": true,
    "deletable": false,
    "editable": false,
    "nbgrader": {
     "checksum": "8fcf14f16ac2672a005b196e8927538e",
     "grade": false,
     "grade_id": "cell-84bfc9bd6f6cd497",
     "locked": true,
     "schema_version": 1.0,
     "solution": false
    }
   },
   "source": [
    "What is the best result you get on the training and test set, respectively? What were the corresponding parameter settings? Discuss your results and the effect of each parameter on the performance of the model.\n",
    "\n",
    "You might want to have a look at Chapter 6 in \"An Introduction to Neural Networks\" (Gurney, 1997) for information.\n",
    "\n",
    "(8 points)"
   ]
  },
  {
   "cell_type": "code",
   "execution_count": 55,
   "metadata": {
    "deletable": false,
    "nbgrader": {
     "checksum": "a9501b33fdef952ecb17e293bca5ae10",
     "grade": true,
     "grade_id": "cell-5d03c43438d63b70",
     "locked": false,
     "points": 8.0,
     "schema_version": 1.0,
     "solution": true
    }
   },
   "outputs": [
    {
     "name": "stdout",
     "output_type": "stream",
     "text": [
      "MSE of Test Data = [0.06]\n",
      "MSE of Training Data = [0.0]\n"
     ]
    },
    {
     "data": {
      "image/png": "[encoded data removed]",
      "text/plain": [
       "<matplotlib.figure.Figure at 0x1a1caef0f0>"
      ]
     },
     "metadata": {},
     "output_type": "display_data"
    }
   ],
   "source": [
    "MSE_mean = []\n",
    "MSE_se = []\n",
    "MSE_mean_train = []\n",
    "MSE_se_train = []\n",
    "\n",
    "for h2 in [(100,)]:\n",
    "    model_results = []\n",
    "    model_results_train = []\n",
    "    for i in range(10):\n",
    "     # create network with optimum parameters\n",
    "        net2 = MLPClassifier(activation='logistic', solver='sgd',hidden_layer_sizes= h2, \n",
    "                             learning_rate_init=0.1, max_iter=100)\n",
    "        net2.fit(X_train,y_train)\n",
    "        net2_prediction = net2.predict(X_test)\n",
    "        net2_prediction_train = net2.predict(X_train)\n",
    "        net2_MSE = mean_squared_error(net2_prediction, y_test)\n",
    "        net2_MSE_train = mean_squared_error(net2_prediction_train, y_train)\n",
    "        model_results.append(net2_MSE)\n",
    "        model_results_train.append(net2_MSE_train)\n",
    "    MSE_mean.append(np.mean(model_results))\n",
    "    MSE_mean_train.append(np.mean(model_results_train))\n",
    "    MSE_se.append(np.std(model_results)/2)\n",
    "    MSE_se_train.append(np.std(model_results_train)/2)\n",
    "\n",
    "f = plt.figure()\n",
    "plt.bar(np.arange(1)+0.2, MSE_mean, yerr = np.array(MSE_se), width = 1/3, label='Test data')\n",
    "plt.bar(np.arange(1)-0.2, MSE_mean_train, yerr = np.array(MSE_se_train), color=\"orange\", width = 1/3, label='Training data')\n",
    "    \n",
    "# to re-name the tick labels for each bar, use:    \n",
    "plt.xticks(np.arange(1), ['100,']);\n",
    "\n",
    "plt.title('Optimization', size=30)\n",
    "plt.xlabel('Hidden Layers')\n",
    "plt.ylabel('Standard Error')\n",
    "\n",
    "plt.legend(bbox_to_anchor=(1.05,1), loc=2, borderaxespad=0)\n",
    "\n",
    "print('MSE of Test Data =',MSE_mean) \n",
    "print('MSE of Training Data =',MSE_mean_train)"
   ]
  },
  {
   "cell_type": "markdown",
   "metadata": {},
   "source": [
    "It turns out that varying the parameters for the Multilayer Perceptron - such as the learning rate, number of hidden layers, number of units in the hidden layers, and the number of iterations - yields different Mean Squared Errors. By plotting a graph of each parameter change, I was able to see which settings allowed me to gain the best results (the ones with the least Mean Squared Error). \n",
    "\n",
    "Learning Rate Variation\n",
    "\n",
    "From the graph it is evident that the Learning Rate that yields the least Mean Squared Error is 0.1, with a Mean Squared error of 0.0 for Training data and around 0.06 for the Test data. Although it is true that a smaller learning rate yields more accuracy, the dataset we are working with is relatively small, hence a learning rate of 0.1 is enough for the model to converge to the desired minima.\n",
    "\n",
    "Hidden Layer Variation\n",
    "\n",
    "The least standard error is possible with a single hidden layer with a number of units of 100. A possible explanation to this is that the dataset we are working with is relatively small and not complex, hence there is no need to use more than one hidden layer.\n",
    "\n",
    "Iteration Variation\n",
    "\n",
    "The number of iterations that gives the best result from the graph changes every run. However that was when the learning rate was set to 0.08. In the optimization graph I coded in the cell above, I set the learning rate to 0.1 and changed the value of the maximum number of iterations (max_iter) from 20, 100, 500, 1000, and 5000, and found out that the least Mean Squared Error is obtained when the maximum number of iterations is 100. A small number of iterations (e.g. 20) is not enough for the Perceptron to learn the data. However, it is unreasonable to use the higher number of iterations (e.g. 500, 1000, and 5000) when the best result can be obtained with just 100 iterations."
   ]
  },
  {
   "cell_type": "markdown",
   "metadata": {
    "collapsed": true,
    "deletable": false,
    "editable": false,
    "nbgrader": {
     "checksum": "fe1f4c4946f45e0c1ad8d2979be42819",
     "grade": false,
     "grade_id": "cell-b89b3029166f4d3b",
     "locked": true,
     "schema_version": 1.0,
     "solution": false
    }
   },
   "source": [
    "# <a id='references'>References</a> \n",
    "[1] [K. McRae, G.S. Cree, M.S. Seidenberg, C. McNorgan. 2005. Semantic Feature Production Norms for a Large Set of Living and Nonliving Things. Behavior Research Methods, 37(4):547-59.](https://link.springer.com/content/pdf/10.3758/BF03192726.pdf)\n"
   ]
  }
 ],
 "metadata": {
  "hide_input": false,
  "kernelspec": {
   "display_name": "Python 3",
   "language": "python",
   "name": "python3"
  },
  "language_info": {
   "codemirror_mode": {
    "name": "ipython",
    "version": 3
   },
   "file_extension": ".py",
   "mimetype": "text/x-python",
   "name": "python",
   "nbconvert_exporter": "python",
   "pygments_lexer": "ipython3",
   "version": "3.6.4"
  }
 },
 "nbformat": 4,
 "nbformat_minor": 2
}
